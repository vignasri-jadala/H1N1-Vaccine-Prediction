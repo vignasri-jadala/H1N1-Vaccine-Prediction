{
  "cells": [
    {
      "cell_type": "markdown",
      "metadata": {
        "id": "view-in-github",
        "colab_type": "text"
      },
      "source": [
        "<a href=\"https://colab.research.google.com/github/vignasri-jadala/H1N1-Vaccine-Prediction/blob/main/Untitled1.ipynb\" target=\"_parent\"><img src=\"https://colab.research.google.com/assets/colab-badge.svg\" alt=\"Open In Colab\"/></a>"
      ]
    },
    {
      "cell_type": "code",
      "execution_count": null,
      "metadata": {
        "id": "aCVHigSvCULw"
      },
      "outputs": [],
      "source": [
        "import pandas as pd\n",
        "import numpy as np\n",
        "import matplotlib.pyplot as plt\n",
        "import seaborn as sns\n",
        "# Classification\n",
        "from sklearn.ensemble import AdaBoostClassifier, GradientBoostingClassifier, RandomForestClassifier\n",
        "from sklearn.linear_model import LogisticRegression\n",
        "from sklearn.neighbors import KNeighborsClassifier\n",
        "from sklearn.tree import DecisionTreeClassifier\n",
        "# Model Evaluation Tools\n",
        "from sklearn.metrics import classification_report,accuracy_score,confusion_matrix\n",
        "from sklearn.metrics import f1_score\n",
        "from sklearn.model_selection import cross_val_score\n",
        "# Data Processing Functions\n",
        "from sklearn.model_selection import train_test_split\n",
        "from sklearn.preprocessing import LabelEncoder\n",
        "le=LabelEncoder()\n",
        "\n",
        "import warnings\n",
        "warnings.filterwarnings(\"ignore\")"
      ]
    },
    {
      "cell_type": "code",
      "execution_count": null,
      "metadata": {
        "id": "7SAIsa0QCp0p"
      },
      "outputs": [],
      "source": [
        "df=pd.read_csv(\"https://raw.githubusercontent.com/Premalatha-success/Datasets/main/h1n1_vaccine_prediction.csv\")"
      ]
    },
    {
      "cell_type": "code",
      "execution_count": null,
      "metadata": {
        "colab": {
          "base_uri": "https://localhost:8080/"
        },
        "id": "0sxbzcvwCxbs",
        "outputId": "c31a701d-aeff-499a-9a86-a0c8791df08b"
      },
      "outputs": [
        {
          "data": {
            "text/plain": [
              "<bound method DataFrame.info of        unique_id  h1n1_worry  h1n1_awareness  antiviral_medication  \\\n",
              "0              0         1.0             0.0                   0.0   \n",
              "1              1         3.0             2.0                   0.0   \n",
              "2              2         1.0             1.0                   0.0   \n",
              "3              3         1.0             1.0                   0.0   \n",
              "4              4         2.0             1.0                   0.0   \n",
              "...          ...         ...             ...                   ...   \n",
              "26702      26702         2.0             0.0                   0.0   \n",
              "26703      26703         1.0             2.0                   0.0   \n",
              "26704      26704         2.0             2.0                   0.0   \n",
              "26705      26705         1.0             1.0                   0.0   \n",
              "26706      26706         0.0             0.0                   0.0   \n",
              "\n",
              "       contact_avoidance  bought_face_mask  wash_hands_frequently  \\\n",
              "0                    0.0               0.0                    0.0   \n",
              "1                    1.0               0.0                    1.0   \n",
              "2                    1.0               0.0                    0.0   \n",
              "3                    1.0               0.0                    1.0   \n",
              "4                    1.0               0.0                    1.0   \n",
              "...                  ...               ...                    ...   \n",
              "26702                1.0               0.0                    0.0   \n",
              "26703                1.0               0.0                    1.0   \n",
              "26704                1.0               1.0                    1.0   \n",
              "26705                0.0               0.0                    0.0   \n",
              "26706                1.0               0.0                    0.0   \n",
              "\n",
              "       avoid_large_gatherings  reduced_outside_home_cont  avoid_touch_face  \\\n",
              "0                         0.0                        1.0               1.0   \n",
              "1                         0.0                        1.0               1.0   \n",
              "2                         0.0                        0.0               0.0   \n",
              "3                         1.0                        0.0               0.0   \n",
              "4                         1.0                        0.0               1.0   \n",
              "...                       ...                        ...               ...   \n",
              "26702                     0.0                        1.0               0.0   \n",
              "26703                     0.0                        0.0               0.0   \n",
              "26704                     1.0                        0.0               1.0   \n",
              "26705                     0.0                        0.0               NaN   \n",
              "26706                     0.0                        0.0               0.0   \n",
              "\n",
              "       ...      race     sex               income_level  marital_status  \\\n",
              "0      ...     White  Female              Below Poverty     Not Married   \n",
              "1      ...     White    Male              Below Poverty     Not Married   \n",
              "2      ...     White    Male  <= $75,000, Above Poverty     Not Married   \n",
              "3      ...     White  Female              Below Poverty     Not Married   \n",
              "4      ...     White  Female  <= $75,000, Above Poverty         Married   \n",
              "...    ...       ...     ...                        ...             ...   \n",
              "26702  ...     White  Female  <= $75,000, Above Poverty     Not Married   \n",
              "26703  ...     White    Male  <= $75,000, Above Poverty     Not Married   \n",
              "26704  ...     White  Female                        NaN     Not Married   \n",
              "26705  ...  Hispanic  Female  <= $75,000, Above Poverty         Married   \n",
              "26706  ...     White    Male  <= $75,000, Above Poverty         Married   \n",
              "\n",
              "       housing_status          employment                census_msa  \\\n",
              "0                 Own  Not in Labor Force                   Non-MSA   \n",
              "1                Rent            Employed  MSA, Not Principle  City   \n",
              "2                 Own            Employed  MSA, Not Principle  City   \n",
              "3                Rent  Not in Labor Force       MSA, Principle City   \n",
              "4                 Own            Employed  MSA, Not Principle  City   \n",
              "...               ...                 ...                       ...   \n",
              "26702             Own  Not in Labor Force                   Non-MSA   \n",
              "26703            Rent            Employed       MSA, Principle City   \n",
              "26704             Own                 NaN  MSA, Not Principle  City   \n",
              "26705            Rent            Employed                   Non-MSA   \n",
              "26706             Own  Not in Labor Force       MSA, Principle City   \n",
              "\n",
              "       no_of_adults  no_of_children  h1n1_vaccine  \n",
              "0               0.0             0.0             0  \n",
              "1               0.0             0.0             0  \n",
              "2               2.0             0.0             0  \n",
              "3               0.0             0.0             0  \n",
              "4               1.0             0.0             0  \n",
              "...             ...             ...           ...  \n",
              "26702           0.0             0.0             0  \n",
              "26703           1.0             0.0             0  \n",
              "26704           0.0             0.0             0  \n",
              "26705           1.0             0.0             0  \n",
              "26706           1.0             0.0             0  \n",
              "\n",
              "[26707 rows x 34 columns]>"
            ]
          },
          "execution_count": 4,
          "metadata": {},
          "output_type": "execute_result"
        }
      ],
      "source": [
        "df.info"
      ]
    },
    {
      "cell_type": "code",
      "execution_count": null,
      "metadata": {
        "colab": {
          "base_uri": "https://localhost:8080/"
        },
        "id": "suILkKXkC38G",
        "outputId": "a6c57537-0cda-4b4a-fbde-3ee8fc887b36"
      },
      "outputs": [
        {
          "data": {
            "text/plain": [
              "unique_id                        0\n",
              "h1n1_worry                      92\n",
              "h1n1_awareness                 116\n",
              "antiviral_medication            71\n",
              "contact_avoidance              208\n",
              "bought_face_mask                19\n",
              "wash_hands_frequently           42\n",
              "avoid_large_gatherings          87\n",
              "reduced_outside_home_cont       82\n",
              "avoid_touch_face               128\n",
              "dr_recc_h1n1_vacc             2160\n",
              "dr_recc_seasonal_vacc         2160\n",
              "chronic_medic_condition        971\n",
              "cont_child_undr_6_mnths        820\n",
              "is_health_worker               804\n",
              "has_health_insur             12274\n",
              "is_h1n1_vacc_effective         391\n",
              "is_h1n1_risky                  388\n",
              "sick_from_h1n1_vacc            395\n",
              "is_seas_vacc_effective         462\n",
              "is_seas_risky                  514\n",
              "sick_from_seas_vacc            537\n",
              "age_bracket                      0\n",
              "qualification                 1407\n",
              "race                             0\n",
              "sex                              0\n",
              "income_level                  4423\n",
              "marital_status                1408\n",
              "housing_status                2042\n",
              "employment                    1463\n",
              "census_msa                       0\n",
              "no_of_adults                   249\n",
              "no_of_children                 249\n",
              "h1n1_vaccine                     0\n",
              "dtype: int64"
            ]
          },
          "execution_count": 5,
          "metadata": {},
          "output_type": "execute_result"
        }
      ],
      "source": [
        "df.isnull().sum()"
      ]
    },
    {
      "cell_type": "code",
      "execution_count": null,
      "metadata": {
        "colab": {
          "base_uri": "https://localhost:8080/"
        },
        "id": "QGzcYt_3C9b6",
        "outputId": "32124cd0-186d-4ef2-c1eb-c2151e98f6a9"
      },
      "outputs": [
        {
          "data": {
            "text/plain": [
              "(26707, 34)"
            ]
          },
          "execution_count": 6,
          "metadata": {},
          "output_type": "execute_result"
        }
      ],
      "source": [
        "df.shape"
      ]
    },
    {
      "cell_type": "code",
      "execution_count": null,
      "metadata": {
        "colab": {
          "base_uri": "https://localhost:8080/"
        },
        "id": "UQNbTiBdDAGk",
        "outputId": "0b63c2e4-0bcd-4150-a9df-536d45311278"
      },
      "outputs": [
        {
          "data": {
            "text/plain": [
              "unique_id                      int64\n",
              "h1n1_worry                   float64\n",
              "h1n1_awareness               float64\n",
              "antiviral_medication         float64\n",
              "contact_avoidance            float64\n",
              "bought_face_mask             float64\n",
              "wash_hands_frequently        float64\n",
              "avoid_large_gatherings       float64\n",
              "reduced_outside_home_cont    float64\n",
              "avoid_touch_face             float64\n",
              "dr_recc_h1n1_vacc            float64\n",
              "dr_recc_seasonal_vacc        float64\n",
              "chronic_medic_condition      float64\n",
              "cont_child_undr_6_mnths      float64\n",
              "is_health_worker             float64\n",
              "has_health_insur             float64\n",
              "is_h1n1_vacc_effective       float64\n",
              "is_h1n1_risky                float64\n",
              "sick_from_h1n1_vacc          float64\n",
              "is_seas_vacc_effective       float64\n",
              "is_seas_risky                float64\n",
              "sick_from_seas_vacc          float64\n",
              "age_bracket                   object\n",
              "qualification                 object\n",
              "race                          object\n",
              "sex                           object\n",
              "income_level                  object\n",
              "marital_status                object\n",
              "housing_status                object\n",
              "employment                    object\n",
              "census_msa                    object\n",
              "no_of_adults                 float64\n",
              "no_of_children               float64\n",
              "h1n1_vaccine                   int64\n",
              "dtype: object"
            ]
          },
          "execution_count": 7,
          "metadata": {},
          "output_type": "execute_result"
        }
      ],
      "source": [
        "df.dtypes"
      ]
    },
    {
      "cell_type": "code",
      "execution_count": null,
      "metadata": {
        "colab": {
          "base_uri": "https://localhost:8080/",
          "height": 456
        },
        "id": "DF1D5RMWYNn_",
        "outputId": "82584278-ce9d-4436-b99a-b97ef0145b70"
      },
      "outputs": [
        {
          "data": {
            "text/html": [
              "\n",
              "  <div id=\"df-ad9d650c-69b2-4e31-91b4-a7f67443c498\">\n",
              "    <div class=\"colab-df-container\">\n",
              "      <div>\n",
              "<style scoped>\n",
              "    .dataframe tbody tr th:only-of-type {\n",
              "        vertical-align: middle;\n",
              "    }\n",
              "\n",
              "    .dataframe tbody tr th {\n",
              "        vertical-align: top;\n",
              "    }\n",
              "\n",
              "    .dataframe thead th {\n",
              "        text-align: right;\n",
              "    }\n",
              "</style>\n",
              "<table border=\"1\" class=\"dataframe\">\n",
              "  <thead>\n",
              "    <tr style=\"text-align: right;\">\n",
              "      <th></th>\n",
              "      <th>unique_id</th>\n",
              "      <th>h1n1_worry</th>\n",
              "      <th>h1n1_awareness</th>\n",
              "      <th>antiviral_medication</th>\n",
              "      <th>contact_avoidance</th>\n",
              "      <th>bought_face_mask</th>\n",
              "      <th>wash_hands_frequently</th>\n",
              "      <th>avoid_large_gatherings</th>\n",
              "      <th>reduced_outside_home_cont</th>\n",
              "      <th>avoid_touch_face</th>\n",
              "      <th>...</th>\n",
              "      <th>race</th>\n",
              "      <th>sex</th>\n",
              "      <th>income_level</th>\n",
              "      <th>marital_status</th>\n",
              "      <th>housing_status</th>\n",
              "      <th>employment</th>\n",
              "      <th>census_msa</th>\n",
              "      <th>no_of_adults</th>\n",
              "      <th>no_of_children</th>\n",
              "      <th>h1n1_vaccine</th>\n",
              "    </tr>\n",
              "  </thead>\n",
              "  <tbody>\n",
              "    <tr>\n",
              "      <th>937</th>\n",
              "      <td>937</td>\n",
              "      <td>1.0</td>\n",
              "      <td>2.0</td>\n",
              "      <td>0.0</td>\n",
              "      <td>1.0</td>\n",
              "      <td>0.0</td>\n",
              "      <td>1.0</td>\n",
              "      <td>0.0</td>\n",
              "      <td>0.0</td>\n",
              "      <td>1.0</td>\n",
              "      <td>...</td>\n",
              "      <td>3</td>\n",
              "      <td>1</td>\n",
              "      <td>1</td>\n",
              "      <td>0</td>\n",
              "      <td>0</td>\n",
              "      <td>0</td>\n",
              "      <td>0</td>\n",
              "      <td>1.0</td>\n",
              "      <td>3.0</td>\n",
              "      <td>0</td>\n",
              "    </tr>\n",
              "    <tr>\n",
              "      <th>10742</th>\n",
              "      <td>10742</td>\n",
              "      <td>3.0</td>\n",
              "      <td>1.0</td>\n",
              "      <td>0.0</td>\n",
              "      <td>1.0</td>\n",
              "      <td>0.0</td>\n",
              "      <td>1.0</td>\n",
              "      <td>1.0</td>\n",
              "      <td>1.0</td>\n",
              "      <td>1.0</td>\n",
              "      <td>...</td>\n",
              "      <td>2</td>\n",
              "      <td>1</td>\n",
              "      <td>0</td>\n",
              "      <td>0</td>\n",
              "      <td>0</td>\n",
              "      <td>0</td>\n",
              "      <td>1</td>\n",
              "      <td>1.0</td>\n",
              "      <td>0.0</td>\n",
              "      <td>1</td>\n",
              "    </tr>\n",
              "    <tr>\n",
              "      <th>11280</th>\n",
              "      <td>11280</td>\n",
              "      <td>1.0</td>\n",
              "      <td>2.0</td>\n",
              "      <td>0.0</td>\n",
              "      <td>0.0</td>\n",
              "      <td>0.0</td>\n",
              "      <td>0.0</td>\n",
              "      <td>0.0</td>\n",
              "      <td>0.0</td>\n",
              "      <td>0.0</td>\n",
              "      <td>...</td>\n",
              "      <td>3</td>\n",
              "      <td>0</td>\n",
              "      <td>1</td>\n",
              "      <td>0</td>\n",
              "      <td>0</td>\n",
              "      <td>0</td>\n",
              "      <td>1</td>\n",
              "      <td>3.0</td>\n",
              "      <td>0.0</td>\n",
              "      <td>0</td>\n",
              "    </tr>\n",
              "    <tr>\n",
              "      <th>1461</th>\n",
              "      <td>1461</td>\n",
              "      <td>3.0</td>\n",
              "      <td>2.0</td>\n",
              "      <td>1.0</td>\n",
              "      <td>1.0</td>\n",
              "      <td>1.0</td>\n",
              "      <td>1.0</td>\n",
              "      <td>0.0</td>\n",
              "      <td>1.0</td>\n",
              "      <td>1.0</td>\n",
              "      <td>...</td>\n",
              "      <td>3</td>\n",
              "      <td>0</td>\n",
              "      <td>0</td>\n",
              "      <td>1</td>\n",
              "      <td>0</td>\n",
              "      <td>0</td>\n",
              "      <td>0</td>\n",
              "      <td>1.0</td>\n",
              "      <td>3.0</td>\n",
              "      <td>0</td>\n",
              "    </tr>\n",
              "    <tr>\n",
              "      <th>19332</th>\n",
              "      <td>19332</td>\n",
              "      <td>0.0</td>\n",
              "      <td>0.0</td>\n",
              "      <td>0.0</td>\n",
              "      <td>0.0</td>\n",
              "      <td>0.0</td>\n",
              "      <td>0.0</td>\n",
              "      <td>0.0</td>\n",
              "      <td>0.0</td>\n",
              "      <td>0.0</td>\n",
              "      <td>...</td>\n",
              "      <td>3</td>\n",
              "      <td>1</td>\n",
              "      <td>1</td>\n",
              "      <td>0</td>\n",
              "      <td>1</td>\n",
              "      <td>0</td>\n",
              "      <td>0</td>\n",
              "      <td>0.0</td>\n",
              "      <td>3.0</td>\n",
              "      <td>0</td>\n",
              "    </tr>\n",
              "    <tr>\n",
              "      <th>14134</th>\n",
              "      <td>14134</td>\n",
              "      <td>1.0</td>\n",
              "      <td>2.0</td>\n",
              "      <td>0.0</td>\n",
              "      <td>0.0</td>\n",
              "      <td>0.0</td>\n",
              "      <td>0.0</td>\n",
              "      <td>0.0</td>\n",
              "      <td>0.0</td>\n",
              "      <td>0.0</td>\n",
              "      <td>...</td>\n",
              "      <td>3</td>\n",
              "      <td>0</td>\n",
              "      <td>0</td>\n",
              "      <td>0</td>\n",
              "      <td>0</td>\n",
              "      <td>2</td>\n",
              "      <td>0</td>\n",
              "      <td>1.0</td>\n",
              "      <td>1.0</td>\n",
              "      <td>0</td>\n",
              "    </tr>\n",
              "    <tr>\n",
              "      <th>23082</th>\n",
              "      <td>23082</td>\n",
              "      <td>2.0</td>\n",
              "      <td>1.0</td>\n",
              "      <td>0.0</td>\n",
              "      <td>1.0</td>\n",
              "      <td>0.0</td>\n",
              "      <td>1.0</td>\n",
              "      <td>1.0</td>\n",
              "      <td>1.0</td>\n",
              "      <td>0.0</td>\n",
              "      <td>...</td>\n",
              "      <td>3</td>\n",
              "      <td>0</td>\n",
              "      <td>0</td>\n",
              "      <td>1</td>\n",
              "      <td>0</td>\n",
              "      <td>1</td>\n",
              "      <td>2</td>\n",
              "      <td>0.0</td>\n",
              "      <td>0.0</td>\n",
              "      <td>0</td>\n",
              "    </tr>\n",
              "    <tr>\n",
              "      <th>5902</th>\n",
              "      <td>5902</td>\n",
              "      <td>1.0</td>\n",
              "      <td>1.0</td>\n",
              "      <td>0.0</td>\n",
              "      <td>0.0</td>\n",
              "      <td>0.0</td>\n",
              "      <td>1.0</td>\n",
              "      <td>1.0</td>\n",
              "      <td>1.0</td>\n",
              "      <td>0.0</td>\n",
              "      <td>...</td>\n",
              "      <td>3</td>\n",
              "      <td>1</td>\n",
              "      <td>0</td>\n",
              "      <td>0</td>\n",
              "      <td>1</td>\n",
              "      <td>0</td>\n",
              "      <td>1</td>\n",
              "      <td>1.0</td>\n",
              "      <td>0.0</td>\n",
              "      <td>0</td>\n",
              "    </tr>\n",
              "    <tr>\n",
              "      <th>26175</th>\n",
              "      <td>26175</td>\n",
              "      <td>2.0</td>\n",
              "      <td>2.0</td>\n",
              "      <td>0.0</td>\n",
              "      <td>1.0</td>\n",
              "      <td>0.0</td>\n",
              "      <td>1.0</td>\n",
              "      <td>1.0</td>\n",
              "      <td>1.0</td>\n",
              "      <td>1.0</td>\n",
              "      <td>...</td>\n",
              "      <td>3</td>\n",
              "      <td>0</td>\n",
              "      <td>0</td>\n",
              "      <td>0</td>\n",
              "      <td>0</td>\n",
              "      <td>1</td>\n",
              "      <td>0</td>\n",
              "      <td>1.0</td>\n",
              "      <td>0.0</td>\n",
              "      <td>0</td>\n",
              "    </tr>\n",
              "    <tr>\n",
              "      <th>22362</th>\n",
              "      <td>22362</td>\n",
              "      <td>1.0</td>\n",
              "      <td>1.0</td>\n",
              "      <td>0.0</td>\n",
              "      <td>1.0</td>\n",
              "      <td>0.0</td>\n",
              "      <td>1.0</td>\n",
              "      <td>1.0</td>\n",
              "      <td>1.0</td>\n",
              "      <td>1.0</td>\n",
              "      <td>...</td>\n",
              "      <td>3</td>\n",
              "      <td>0</td>\n",
              "      <td>0</td>\n",
              "      <td>0</td>\n",
              "      <td>0</td>\n",
              "      <td>0</td>\n",
              "      <td>2</td>\n",
              "      <td>1.0</td>\n",
              "      <td>0.0</td>\n",
              "      <td>0</td>\n",
              "    </tr>\n",
              "  </tbody>\n",
              "</table>\n",
              "<p>10 rows × 33 columns</p>\n",
              "</div>\n",
              "      <button class=\"colab-df-convert\" onclick=\"convertToInteractive('df-ad9d650c-69b2-4e31-91b4-a7f67443c498')\"\n",
              "              title=\"Convert this dataframe to an interactive table.\"\n",
              "              style=\"display:none;\">\n",
              "        \n",
              "  <svg xmlns=\"http://www.w3.org/2000/svg\" height=\"24px\"viewBox=\"0 0 24 24\"\n",
              "       width=\"24px\">\n",
              "    <path d=\"M0 0h24v24H0V0z\" fill=\"none\"/>\n",
              "    <path d=\"M18.56 5.44l.94 2.06.94-2.06 2.06-.94-2.06-.94-.94-2.06-.94 2.06-2.06.94zm-11 1L8.5 8.5l.94-2.06 2.06-.94-2.06-.94L8.5 2.5l-.94 2.06-2.06.94zm10 10l.94 2.06.94-2.06 2.06-.94-2.06-.94-.94-2.06-.94 2.06-2.06.94z\"/><path d=\"M17.41 7.96l-1.37-1.37c-.4-.4-.92-.59-1.43-.59-.52 0-1.04.2-1.43.59L10.3 9.45l-7.72 7.72c-.78.78-.78 2.05 0 2.83L4 21.41c.39.39.9.59 1.41.59.51 0 1.02-.2 1.41-.59l7.78-7.78 2.81-2.81c.8-.78.8-2.07 0-2.86zM5.41 20L4 18.59l7.72-7.72 1.47 1.35L5.41 20z\"/>\n",
              "  </svg>\n",
              "      </button>\n",
              "      \n",
              "  <style>\n",
              "    .colab-df-container {\n",
              "      display:flex;\n",
              "      flex-wrap:wrap;\n",
              "      gap: 12px;\n",
              "    }\n",
              "\n",
              "    .colab-df-convert {\n",
              "      background-color: #E8F0FE;\n",
              "      border: none;\n",
              "      border-radius: 50%;\n",
              "      cursor: pointer;\n",
              "      display: none;\n",
              "      fill: #1967D2;\n",
              "      height: 32px;\n",
              "      padding: 0 0 0 0;\n",
              "      width: 32px;\n",
              "    }\n",
              "\n",
              "    .colab-df-convert:hover {\n",
              "      background-color: #E2EBFA;\n",
              "      box-shadow: 0px 1px 2px rgba(60, 64, 67, 0.3), 0px 1px 3px 1px rgba(60, 64, 67, 0.15);\n",
              "      fill: #174EA6;\n",
              "    }\n",
              "\n",
              "    [theme=dark] .colab-df-convert {\n",
              "      background-color: #3B4455;\n",
              "      fill: #D2E3FC;\n",
              "    }\n",
              "\n",
              "    [theme=dark] .colab-df-convert:hover {\n",
              "      background-color: #434B5C;\n",
              "      box-shadow: 0px 1px 3px 1px rgba(0, 0, 0, 0.15);\n",
              "      filter: drop-shadow(0px 1px 2px rgba(0, 0, 0, 0.3));\n",
              "      fill: #FFFFFF;\n",
              "    }\n",
              "  </style>\n",
              "\n",
              "      <script>\n",
              "        const buttonEl =\n",
              "          document.querySelector('#df-ad9d650c-69b2-4e31-91b4-a7f67443c498 button.colab-df-convert');\n",
              "        buttonEl.style.display =\n",
              "          google.colab.kernel.accessAllowed ? 'block' : 'none';\n",
              "\n",
              "        async function convertToInteractive(key) {\n",
              "          const element = document.querySelector('#df-ad9d650c-69b2-4e31-91b4-a7f67443c498');\n",
              "          const dataTable =\n",
              "            await google.colab.kernel.invokeFunction('convertToInteractive',\n",
              "                                                     [key], {});\n",
              "          if (!dataTable) return;\n",
              "\n",
              "          const docLinkHtml = 'Like what you see? Visit the ' +\n",
              "            '<a target=\"_blank\" href=https://colab.research.google.com/notebooks/data_table.ipynb>data table notebook</a>'\n",
              "            + ' to learn more about interactive tables.';\n",
              "          element.innerHTML = '';\n",
              "          dataTable['output_type'] = 'display_data';\n",
              "          await google.colab.output.renderOutput(dataTable, element);\n",
              "          const docLink = document.createElement('div');\n",
              "          docLink.innerHTML = docLinkHtml;\n",
              "          element.appendChild(docLink);\n",
              "        }\n",
              "      </script>\n",
              "    </div>\n",
              "  </div>\n",
              "  "
            ],
            "text/plain": [
              "       unique_id  h1n1_worry  h1n1_awareness  antiviral_medication  \\\n",
              "937          937         1.0             2.0                   0.0   \n",
              "10742      10742         3.0             1.0                   0.0   \n",
              "11280      11280         1.0             2.0                   0.0   \n",
              "1461        1461         3.0             2.0                   1.0   \n",
              "19332      19332         0.0             0.0                   0.0   \n",
              "14134      14134         1.0             2.0                   0.0   \n",
              "23082      23082         2.0             1.0                   0.0   \n",
              "5902        5902         1.0             1.0                   0.0   \n",
              "26175      26175         2.0             2.0                   0.0   \n",
              "22362      22362         1.0             1.0                   0.0   \n",
              "\n",
              "       contact_avoidance  bought_face_mask  wash_hands_frequently  \\\n",
              "937                  1.0               0.0                    1.0   \n",
              "10742                1.0               0.0                    1.0   \n",
              "11280                0.0               0.0                    0.0   \n",
              "1461                 1.0               1.0                    1.0   \n",
              "19332                0.0               0.0                    0.0   \n",
              "14134                0.0               0.0                    0.0   \n",
              "23082                1.0               0.0                    1.0   \n",
              "5902                 0.0               0.0                    1.0   \n",
              "26175                1.0               0.0                    1.0   \n",
              "22362                1.0               0.0                    1.0   \n",
              "\n",
              "       avoid_large_gatherings  reduced_outside_home_cont  avoid_touch_face  \\\n",
              "937                       0.0                        0.0               1.0   \n",
              "10742                     1.0                        1.0               1.0   \n",
              "11280                     0.0                        0.0               0.0   \n",
              "1461                      0.0                        1.0               1.0   \n",
              "19332                     0.0                        0.0               0.0   \n",
              "14134                     0.0                        0.0               0.0   \n",
              "23082                     1.0                        1.0               0.0   \n",
              "5902                      1.0                        1.0               0.0   \n",
              "26175                     1.0                        1.0               1.0   \n",
              "22362                     1.0                        1.0               1.0   \n",
              "\n",
              "       ...  race  sex  income_level  marital_status  housing_status  \\\n",
              "937    ...     3    1             1               0               0   \n",
              "10742  ...     2    1             0               0               0   \n",
              "11280  ...     3    0             1               0               0   \n",
              "1461   ...     3    0             0               1               0   \n",
              "19332  ...     3    1             1               0               1   \n",
              "14134  ...     3    0             0               0               0   \n",
              "23082  ...     3    0             0               1               0   \n",
              "5902   ...     3    1             0               0               1   \n",
              "26175  ...     3    0             0               0               0   \n",
              "22362  ...     3    0             0               0               0   \n",
              "\n",
              "       employment  census_msa  no_of_adults  no_of_children  h1n1_vaccine  \n",
              "937             0           0           1.0             3.0             0  \n",
              "10742           0           1           1.0             0.0             1  \n",
              "11280           0           1           3.0             0.0             0  \n",
              "1461            0           0           1.0             3.0             0  \n",
              "19332           0           0           0.0             3.0             0  \n",
              "14134           2           0           1.0             1.0             0  \n",
              "23082           1           2           0.0             0.0             0  \n",
              "5902            0           1           1.0             0.0             0  \n",
              "26175           1           0           1.0             0.0             0  \n",
              "22362           0           2           1.0             0.0             0  \n",
              "\n",
              "[10 rows x 33 columns]"
            ]
          },
          "execution_count": 87,
          "metadata": {},
          "output_type": "execute_result"
        }
      ],
      "source": [
        "df.sample(10)"
      ]
    },
    {
      "cell_type": "code",
      "execution_count": null,
      "metadata": {
        "colab": {
          "base_uri": "https://localhost:8080/",
          "height": 467
        },
        "id": "qWSR6ezDDBHu",
        "outputId": "262257e9-29c7-4a34-a666-52b5a3b4e70d"
      },
      "outputs": [
        {
          "data": {
            "text/plain": [
              "<Axes: xlabel='marital_status', ylabel='count'>"
            ]
          },
          "execution_count": 8,
          "metadata": {},
          "output_type": "execute_result"
        },
        {
          "data": {
            "image/png": "[encoded data removed]",
            "text/plain": [
              "<Figure size 640x480 with 1 Axes>"
            ]
          },
          "metadata": {},
          "output_type": "display_data"
        }
      ],
      "source": [
        "sns.countplot(x=\"marital_status\",hue=\"h1n1_vaccine\",data=df)"
      ]
    },
    {
      "cell_type": "code",
      "execution_count": null,
      "metadata": {
        "colab": {
          "base_uri": "https://localhost:8080/",
          "height": 466
        },
        "id": "U6WQiWOfEuhk",
        "outputId": "6fc8ec92-dcc5-4e0c-e7ac-9262c31c375b"
      },
      "outputs": [
        {
          "data": {
            "text/plain": [
              "<Axes: xlabel='sex', ylabel='count'>"
            ]
          },
          "execution_count": 9,
          "metadata": {},
          "output_type": "execute_result"
        },
        {
          "data": {
            "image/png": "[encoded data removed]",
            "text/plain": [
              "<Figure size 640x480 with 1 Axes>"
            ]
          },
          "metadata": {},
          "output_type": "display_data"
        }
      ],
      "source": [
        "sns.countplot(x=\"sex\",hue=\"h1n1_vaccine\",data=df)"
      ]
    },
    {
      "cell_type": "code",
      "execution_count": null,
      "metadata": {
        "colab": {
          "base_uri": "https://localhost:8080/",
          "height": 926
        },
        "id": "6lnx1LCXE6X-",
        "outputId": "66b3b9e8-2fea-4149-87ad-e02c1303a62e"
      },
      "outputs": [
        {
          "data": {
            "text/html": [
              "\n",
              "  <div id=\"df-d9f1ec01-c921-4900-8f22-8df2158a1621\">\n",
              "    <div class=\"colab-df-container\">\n",
              "      <div>\n",
              "<style scoped>\n",
              "    .dataframe tbody tr th:only-of-type {\n",
              "        vertical-align: middle;\n",
              "    }\n",
              "\n",
              "    .dataframe tbody tr th {\n",
              "        vertical-align: top;\n",
              "    }\n",
              "\n",
              "    .dataframe thead th {\n",
              "        text-align: right;\n",
              "    }\n",
              "</style>\n",
              "<table border=\"1\" class=\"dataframe\">\n",
              "  <thead>\n",
              "    <tr style=\"text-align: right;\">\n",
              "      <th></th>\n",
              "      <th>unique_id</th>\n",
              "      <th>h1n1_worry</th>\n",
              "      <th>h1n1_awareness</th>\n",
              "      <th>antiviral_medication</th>\n",
              "      <th>contact_avoidance</th>\n",
              "      <th>bought_face_mask</th>\n",
              "      <th>wash_hands_frequently</th>\n",
              "      <th>avoid_large_gatherings</th>\n",
              "      <th>reduced_outside_home_cont</th>\n",
              "      <th>avoid_touch_face</th>\n",
              "      <th>...</th>\n",
              "      <th>has_health_insur</th>\n",
              "      <th>is_h1n1_vacc_effective</th>\n",
              "      <th>is_h1n1_risky</th>\n",
              "      <th>sick_from_h1n1_vacc</th>\n",
              "      <th>is_seas_vacc_effective</th>\n",
              "      <th>is_seas_risky</th>\n",
              "      <th>sick_from_seas_vacc</th>\n",
              "      <th>no_of_adults</th>\n",
              "      <th>no_of_children</th>\n",
              "      <th>h1n1_vaccine</th>\n",
              "    </tr>\n",
              "  </thead>\n",
              "  <tbody>\n",
              "    <tr>\n",
              "      <th>unique_id</th>\n",
              "      <td>1.000000</td>\n",
              "      <td>0.017839</td>\n",
              "      <td>0.003425</td>\n",
              "      <td>-0.008475</td>\n",
              "      <td>0.009638</td>\n",
              "      <td>-0.006644</td>\n",
              "      <td>0.011105</td>\n",
              "      <td>0.004539</td>\n",
              "      <td>0.009011</td>\n",
              "      <td>0.007575</td>\n",
              "      <td>...</td>\n",
              "      <td>-0.012603</td>\n",
              "      <td>0.005912</td>\n",
              "      <td>0.000958</td>\n",
              "      <td>-0.002270</td>\n",
              "      <td>0.005935</td>\n",
              "      <td>-0.005291</td>\n",
              "      <td>0.009563</td>\n",
              "      <td>0.000187</td>\n",
              "      <td>-0.003726</td>\n",
              "      <td>-0.003280</td>\n",
              "    </tr>\n",
              "    <tr>\n",
              "      <th>h1n1_worry</th>\n",
              "      <td>0.017839</td>\n",
              "      <td>1.000000</td>\n",
              "      <td>0.062522</td>\n",
              "      <td>0.090301</td>\n",
              "      <td>0.233713</td>\n",
              "      <td>0.156032</td>\n",
              "      <td>0.293565</td>\n",
              "      <td>0.255031</td>\n",
              "      <td>0.246424</td>\n",
              "      <td>0.248016</td>\n",
              "      <td>...</td>\n",
              "      <td>-0.003655</td>\n",
              "      <td>0.239604</td>\n",
              "      <td>0.377033</td>\n",
              "      <td>0.360070</td>\n",
              "      <td>0.235136</td>\n",
              "      <td>0.333990</td>\n",
              "      <td>0.225731</td>\n",
              "      <td>-0.015658</td>\n",
              "      <td>0.050525</td>\n",
              "      <td>0.121929</td>\n",
              "    </tr>\n",
              "    <tr>\n",
              "      <th>h1n1_awareness</th>\n",
              "      <td>0.003425</td>\n",
              "      <td>0.062522</td>\n",
              "      <td>1.000000</td>\n",
              "      <td>-0.010836</td>\n",
              "      <td>0.088839</td>\n",
              "      <td>0.030050</td>\n",
              "      <td>0.089785</td>\n",
              "      <td>-0.048898</td>\n",
              "      <td>-0.068219</td>\n",
              "      <td>0.086162</td>\n",
              "      <td>...</td>\n",
              "      <td>0.119408</td>\n",
              "      <td>0.121009</td>\n",
              "      <td>0.073086</td>\n",
              "      <td>-0.019501</td>\n",
              "      <td>0.086103</td>\n",
              "      <td>0.076825</td>\n",
              "      <td>-0.062483</td>\n",
              "      <td>0.024874</td>\n",
              "      <td>0.050583</td>\n",
              "      <td>0.117951</td>\n",
              "    </tr>\n",
              "    <tr>\n",
              "      <th>antiviral_medication</th>\n",
              "      <td>-0.008475</td>\n",
              "      <td>0.090301</td>\n",
              "      <td>-0.010836</td>\n",
              "      <td>1.000000</td>\n",
              "      <td>0.049247</td>\n",
              "      <td>0.146261</td>\n",
              "      <td>0.064119</td>\n",
              "      <td>0.106287</td>\n",
              "      <td>0.127679</td>\n",
              "      <td>0.070868</td>\n",
              "      <td>...</td>\n",
              "      <td>-0.063988</td>\n",
              "      <td>0.030211</td>\n",
              "      <td>0.105163</td>\n",
              "      <td>0.079091</td>\n",
              "      <td>0.015003</td>\n",
              "      <td>0.085315</td>\n",
              "      <td>0.084305</td>\n",
              "      <td>0.044900</td>\n",
              "      <td>0.084822</td>\n",
              "      <td>0.040608</td>\n",
              "    </tr>\n",
              "    <tr>\n",
              "      <th>contact_avoidance</th>\n",
              "      <td>0.009638</td>\n",
              "      <td>0.233713</td>\n",
              "      <td>0.088839</td>\n",
              "      <td>0.049247</td>\n",
              "      <td>1.000000</td>\n",
              "      <td>0.064946</td>\n",
              "      <td>0.338130</td>\n",
              "      <td>0.227675</td>\n",
              "      <td>0.220348</td>\n",
              "      <td>0.335335</td>\n",
              "      <td>...</td>\n",
              "      <td>0.032662</td>\n",
              "      <td>0.112300</td>\n",
              "      <td>0.117851</td>\n",
              "      <td>0.131405</td>\n",
              "      <td>0.119554</td>\n",
              "      <td>0.129504</td>\n",
              "      <td>0.082942</td>\n",
              "      <td>0.019122</td>\n",
              "      <td>0.040328</td>\n",
              "      <td>0.047690</td>\n",
              "    </tr>\n",
              "    <tr>\n",
              "      <th>bought_face_mask</th>\n",
              "      <td>-0.006644</td>\n",
              "      <td>0.156032</td>\n",
              "      <td>0.030050</td>\n",
              "      <td>0.146261</td>\n",
              "      <td>0.064946</td>\n",
              "      <td>1.000000</td>\n",
              "      <td>0.083363</td>\n",
              "      <td>0.180907</td>\n",
              "      <td>0.163382</td>\n",
              "      <td>0.104335</td>\n",
              "      <td>...</td>\n",
              "      <td>-0.040257</td>\n",
              "      <td>0.037651</td>\n",
              "      <td>0.131165</td>\n",
              "      <td>0.107129</td>\n",
              "      <td>0.041556</td>\n",
              "      <td>0.110161</td>\n",
              "      <td>0.090009</td>\n",
              "      <td>0.013991</td>\n",
              "      <td>0.005826</td>\n",
              "      <td>0.070498</td>\n",
              "    </tr>\n",
              "    <tr>\n",
              "      <th>wash_hands_frequently</th>\n",
              "      <td>0.011105</td>\n",
              "      <td>0.293565</td>\n",
              "      <td>0.089785</td>\n",
              "      <td>0.064119</td>\n",
              "      <td>0.338130</td>\n",
              "      <td>0.083363</td>\n",
              "      <td>1.000000</td>\n",
              "      <td>0.195364</td>\n",
              "      <td>0.192619</td>\n",
              "      <td>0.365064</td>\n",
              "      <td>...</td>\n",
              "      <td>0.031919</td>\n",
              "      <td>0.136987</td>\n",
              "      <td>0.168711</td>\n",
              "      <td>0.150024</td>\n",
              "      <td>0.138517</td>\n",
              "      <td>0.172464</td>\n",
              "      <td>0.088029</td>\n",
              "      <td>0.009669</td>\n",
              "      <td>0.047764</td>\n",
              "      <td>0.074712</td>\n",
              "    </tr>\n",
              "    <tr>\n",
              "      <th>avoid_large_gatherings</th>\n",
              "      <td>0.004539</td>\n",
              "      <td>0.255031</td>\n",
              "      <td>-0.048898</td>\n",
              "      <td>0.106287</td>\n",
              "      <td>0.227675</td>\n",
              "      <td>0.180907</td>\n",
              "      <td>0.195364</td>\n",
              "      <td>1.000000</td>\n",
              "      <td>0.584085</td>\n",
              "      <td>0.253683</td>\n",
              "      <td>...</td>\n",
              "      <td>-0.059000</td>\n",
              "      <td>0.052299</td>\n",
              "      <td>0.126463</td>\n",
              "      <td>0.185924</td>\n",
              "      <td>0.078491</td>\n",
              "      <td>0.132865</td>\n",
              "      <td>0.135446</td>\n",
              "      <td>-0.031938</td>\n",
              "      <td>-0.009449</td>\n",
              "      <td>0.017822</td>\n",
              "    </tr>\n",
              "    <tr>\n",
              "      <th>reduced_outside_home_cont</th>\n",
              "      <td>0.009011</td>\n",
              "      <td>0.246424</td>\n",
              "      <td>-0.068219</td>\n",
              "      <td>0.127679</td>\n",
              "      <td>0.220348</td>\n",
              "      <td>0.163382</td>\n",
              "      <td>0.192619</td>\n",
              "      <td>0.584085</td>\n",
              "      <td>1.000000</td>\n",
              "      <td>0.267719</td>\n",
              "      <td>...</td>\n",
              "      <td>-0.061381</td>\n",
              "      <td>0.050748</td>\n",
              "      <td>0.125549</td>\n",
              "      <td>0.174834</td>\n",
              "      <td>0.067469</td>\n",
              "      <td>0.120237</td>\n",
              "      <td>0.138133</td>\n",
              "      <td>-0.027527</td>\n",
              "      <td>-0.009558</td>\n",
              "      <td>0.021768</td>\n",
              "    </tr>\n",
              "    <tr>\n",
              "      <th>avoid_touch_face</th>\n",
              "      <td>0.007575</td>\n",
              "      <td>0.248016</td>\n",
              "      <td>0.086162</td>\n",
              "      <td>0.070868</td>\n",
              "      <td>0.335335</td>\n",
              "      <td>0.104335</td>\n",
              "      <td>0.365064</td>\n",
              "      <td>0.253683</td>\n",
              "      <td>0.267719</td>\n",
              "      <td>1.000000</td>\n",
              "      <td>...</td>\n",
              "      <td>0.011024</td>\n",
              "      <td>0.104126</td>\n",
              "      <td>0.146080</td>\n",
              "      <td>0.131772</td>\n",
              "      <td>0.105798</td>\n",
              "      <td>0.143735</td>\n",
              "      <td>0.090097</td>\n",
              "      <td>-0.000553</td>\n",
              "      <td>0.023606</td>\n",
              "      <td>0.071648</td>\n",
              "    </tr>\n",
              "    <tr>\n",
              "      <th>dr_recc_h1n1_vacc</th>\n",
              "      <td>-0.002072</td>\n",
              "      <td>0.150206</td>\n",
              "      <td>0.093829</td>\n",
              "      <td>0.051235</td>\n",
              "      <td>0.068145</td>\n",
              "      <td>0.084282</td>\n",
              "      <td>0.088729</td>\n",
              "      <td>0.082242</td>\n",
              "      <td>0.070346</td>\n",
              "      <td>0.088221</td>\n",
              "      <td>...</td>\n",
              "      <td>0.067157</td>\n",
              "      <td>0.152305</td>\n",
              "      <td>0.262826</td>\n",
              "      <td>0.113111</td>\n",
              "      <td>0.107512</td>\n",
              "      <td>0.202320</td>\n",
              "      <td>0.057128</td>\n",
              "      <td>0.004112</td>\n",
              "      <td>0.029040</td>\n",
              "      <td>0.393890</td>\n",
              "    </tr>\n",
              "    <tr>\n",
              "      <th>dr_recc_seasonal_vacc</th>\n",
              "      <td>0.001500</td>\n",
              "      <td>0.135567</td>\n",
              "      <td>0.071920</td>\n",
              "      <td>0.030909</td>\n",
              "      <td>0.074088</td>\n",
              "      <td>0.069481</td>\n",
              "      <td>0.102044</td>\n",
              "      <td>0.093557</td>\n",
              "      <td>0.085622</td>\n",
              "      <td>0.100808</td>\n",
              "      <td>...</td>\n",
              "      <td>0.117195</td>\n",
              "      <td>0.118614</td>\n",
              "      <td>0.168443</td>\n",
              "      <td>0.067178</td>\n",
              "      <td>0.180902</td>\n",
              "      <td>0.240087</td>\n",
              "      <td>0.025356</td>\n",
              "      <td>-0.040769</td>\n",
              "      <td>-0.048380</td>\n",
              "      <td>0.209864</td>\n",
              "    </tr>\n",
              "    <tr>\n",
              "      <th>chronic_medic_condition</th>\n",
              "      <td>0.005797</td>\n",
              "      <td>0.095162</td>\n",
              "      <td>-0.022602</td>\n",
              "      <td>0.008465</td>\n",
              "      <td>0.039435</td>\n",
              "      <td>0.068113</td>\n",
              "      <td>0.030260</td>\n",
              "      <td>0.104721</td>\n",
              "      <td>0.098858</td>\n",
              "      <td>0.028876</td>\n",
              "      <td>...</td>\n",
              "      <td>0.066088</td>\n",
              "      <td>0.044145</td>\n",
              "      <td>0.121657</td>\n",
              "      <td>0.081943</td>\n",
              "      <td>0.091737</td>\n",
              "      <td>0.162061</td>\n",
              "      <td>0.052587</td>\n",
              "      <td>-0.071346</td>\n",
              "      <td>-0.108237</td>\n",
              "      <td>0.095207</td>\n",
              "    </tr>\n",
              "    <tr>\n",
              "      <th>cont_child_undr_6_mnths</th>\n",
              "      <td>-0.004839</td>\n",
              "      <td>0.049574</td>\n",
              "      <td>0.021598</td>\n",
              "      <td>0.028788</td>\n",
              "      <td>-0.000414</td>\n",
              "      <td>0.039726</td>\n",
              "      <td>0.036188</td>\n",
              "      <td>0.021168</td>\n",
              "      <td>0.018195</td>\n",
              "      <td>0.026640</td>\n",
              "      <td>...</td>\n",
              "      <td>-0.026836</td>\n",
              "      <td>0.007094</td>\n",
              "      <td>0.086516</td>\n",
              "      <td>0.037212</td>\n",
              "      <td>0.003653</td>\n",
              "      <td>0.050267</td>\n",
              "      <td>0.037582</td>\n",
              "      <td>0.044828</td>\n",
              "      <td>0.099562</td>\n",
              "      <td>0.066962</td>\n",
              "    </tr>\n",
              "    <tr>\n",
              "      <th>is_health_worker</th>\n",
              "      <td>-0.003149</td>\n",
              "      <td>0.033562</td>\n",
              "      <td>0.170252</td>\n",
              "      <td>0.009465</td>\n",
              "      <td>0.001180</td>\n",
              "      <td>0.069992</td>\n",
              "      <td>0.053761</td>\n",
              "      <td>-0.032319</td>\n",
              "      <td>-0.034619</td>\n",
              "      <td>0.067648</td>\n",
              "      <td>...</td>\n",
              "      <td>0.046680</td>\n",
              "      <td>0.053581</td>\n",
              "      <td>0.123869</td>\n",
              "      <td>0.009015</td>\n",
              "      <td>0.030395</td>\n",
              "      <td>0.089142</td>\n",
              "      <td>-0.017893</td>\n",
              "      <td>0.013380</td>\n",
              "      <td>0.037698</td>\n",
              "      <td>0.169768</td>\n",
              "    </tr>\n",
              "    <tr>\n",
              "      <th>has_health_insur</th>\n",
              "      <td>-0.012603</td>\n",
              "      <td>-0.003655</td>\n",
              "      <td>0.119408</td>\n",
              "      <td>-0.063988</td>\n",
              "      <td>0.032662</td>\n",
              "      <td>-0.040257</td>\n",
              "      <td>0.031919</td>\n",
              "      <td>-0.059000</td>\n",
              "      <td>-0.061381</td>\n",
              "      <td>0.011024</td>\n",
              "      <td>...</td>\n",
              "      <td>1.000000</td>\n",
              "      <td>0.058675</td>\n",
              "      <td>0.005766</td>\n",
              "      <td>-0.033314</td>\n",
              "      <td>0.091247</td>\n",
              "      <td>0.050232</td>\n",
              "      <td>-0.065886</td>\n",
              "      <td>-0.078697</td>\n",
              "      <td>-0.069402</td>\n",
              "      <td>0.121170</td>\n",
              "    </tr>\n",
              "    <tr>\n",
              "      <th>is_h1n1_vacc_effective</th>\n",
              "      <td>0.005912</td>\n",
              "      <td>0.239604</td>\n",
              "      <td>0.121009</td>\n",
              "      <td>0.030211</td>\n",
              "      <td>0.112300</td>\n",
              "      <td>0.037651</td>\n",
              "      <td>0.136987</td>\n",
              "      <td>0.052299</td>\n",
              "      <td>0.050748</td>\n",
              "      <td>0.104126</td>\n",
              "      <td>...</td>\n",
              "      <td>0.058675</td>\n",
              "      <td>1.000000</td>\n",
              "      <td>0.261304</td>\n",
              "      <td>0.062372</td>\n",
              "      <td>0.472467</td>\n",
              "      <td>0.258173</td>\n",
              "      <td>0.012491</td>\n",
              "      <td>0.010970</td>\n",
              "      <td>-0.015242</td>\n",
              "      <td>0.269347</td>\n",
              "    </tr>\n",
              "    <tr>\n",
              "      <th>is_h1n1_risky</th>\n",
              "      <td>0.000958</td>\n",
              "      <td>0.377033</td>\n",
              "      <td>0.073086</td>\n",
              "      <td>0.105163</td>\n",
              "      <td>0.117851</td>\n",
              "      <td>0.131165</td>\n",
              "      <td>0.168711</td>\n",
              "      <td>0.126463</td>\n",
              "      <td>0.125549</td>\n",
              "      <td>0.146080</td>\n",
              "      <td>...</td>\n",
              "      <td>0.005766</td>\n",
              "      <td>0.261304</td>\n",
              "      <td>1.000000</td>\n",
              "      <td>0.335062</td>\n",
              "      <td>0.224469</td>\n",
              "      <td>0.564208</td>\n",
              "      <td>0.198601</td>\n",
              "      <td>0.030181</td>\n",
              "      <td>0.095325</td>\n",
              "      <td>0.323265</td>\n",
              "    </tr>\n",
              "    <tr>\n",
              "      <th>sick_from_h1n1_vacc</th>\n",
              "      <td>-0.002270</td>\n",
              "      <td>0.360070</td>\n",
              "      <td>-0.019501</td>\n",
              "      <td>0.079091</td>\n",
              "      <td>0.131405</td>\n",
              "      <td>0.107129</td>\n",
              "      <td>0.150024</td>\n",
              "      <td>0.185924</td>\n",
              "      <td>0.174834</td>\n",
              "      <td>0.131772</td>\n",
              "      <td>...</td>\n",
              "      <td>-0.033314</td>\n",
              "      <td>0.062372</td>\n",
              "      <td>0.335062</td>\n",
              "      <td>1.000000</td>\n",
              "      <td>0.078097</td>\n",
              "      <td>0.267013</td>\n",
              "      <td>0.491546</td>\n",
              "      <td>0.014769</td>\n",
              "      <td>0.071164</td>\n",
              "      <td>0.075091</td>\n",
              "    </tr>\n",
              "    <tr>\n",
              "      <th>is_seas_vacc_effective</th>\n",
              "      <td>0.005935</td>\n",
              "      <td>0.235136</td>\n",
              "      <td>0.086103</td>\n",
              "      <td>0.015003</td>\n",
              "      <td>0.119554</td>\n",
              "      <td>0.041556</td>\n",
              "      <td>0.138517</td>\n",
              "      <td>0.078491</td>\n",
              "      <td>0.067469</td>\n",
              "      <td>0.105798</td>\n",
              "      <td>...</td>\n",
              "      <td>0.091247</td>\n",
              "      <td>0.472467</td>\n",
              "      <td>0.224469</td>\n",
              "      <td>0.078097</td>\n",
              "      <td>1.000000</td>\n",
              "      <td>0.344800</td>\n",
              "      <td>-0.017340</td>\n",
              "      <td>-0.022579</td>\n",
              "      <td>-0.076503</td>\n",
              "      <td>0.179272</td>\n",
              "    </tr>\n",
              "    <tr>\n",
              "      <th>is_seas_risky</th>\n",
              "      <td>-0.005291</td>\n",
              "      <td>0.333990</td>\n",
              "      <td>0.076825</td>\n",
              "      <td>0.085315</td>\n",
              "      <td>0.129504</td>\n",
              "      <td>0.110161</td>\n",
              "      <td>0.172464</td>\n",
              "      <td>0.132865</td>\n",
              "      <td>0.120237</td>\n",
              "      <td>0.143735</td>\n",
              "      <td>...</td>\n",
              "      <td>0.050232</td>\n",
              "      <td>0.258173</td>\n",
              "      <td>0.564208</td>\n",
              "      <td>0.267013</td>\n",
              "      <td>0.344800</td>\n",
              "      <td>1.000000</td>\n",
              "      <td>0.200379</td>\n",
              "      <td>0.006111</td>\n",
              "      <td>0.025898</td>\n",
              "      <td>0.258571</td>\n",
              "    </tr>\n",
              "    <tr>\n",
              "      <th>sick_from_seas_vacc</th>\n",
              "      <td>0.009563</td>\n",
              "      <td>0.225731</td>\n",
              "      <td>-0.062483</td>\n",
              "      <td>0.084305</td>\n",
              "      <td>0.082942</td>\n",
              "      <td>0.090009</td>\n",
              "      <td>0.088029</td>\n",
              "      <td>0.135446</td>\n",
              "      <td>0.138133</td>\n",
              "      <td>0.090097</td>\n",
              "      <td>...</td>\n",
              "      <td>-0.065886</td>\n",
              "      <td>0.012491</td>\n",
              "      <td>0.198601</td>\n",
              "      <td>0.491546</td>\n",
              "      <td>-0.017340</td>\n",
              "      <td>0.200379</td>\n",
              "      <td>1.000000</td>\n",
              "      <td>0.022925</td>\n",
              "      <td>0.057286</td>\n",
              "      <td>0.008360</td>\n",
              "    </tr>\n",
              "    <tr>\n",
              "      <th>no_of_adults</th>\n",
              "      <td>0.000187</td>\n",
              "      <td>-0.015658</td>\n",
              "      <td>0.024874</td>\n",
              "      <td>0.044900</td>\n",
              "      <td>0.019122</td>\n",
              "      <td>0.013991</td>\n",
              "      <td>0.009669</td>\n",
              "      <td>-0.031938</td>\n",
              "      <td>-0.027527</td>\n",
              "      <td>-0.000553</td>\n",
              "      <td>...</td>\n",
              "      <td>-0.078697</td>\n",
              "      <td>0.010970</td>\n",
              "      <td>0.030181</td>\n",
              "      <td>0.014769</td>\n",
              "      <td>-0.022579</td>\n",
              "      <td>0.006111</td>\n",
              "      <td>0.022925</td>\n",
              "      <td>1.000000</td>\n",
              "      <td>0.189571</td>\n",
              "      <td>0.007545</td>\n",
              "    </tr>\n",
              "    <tr>\n",
              "      <th>no_of_children</th>\n",
              "      <td>-0.003726</td>\n",
              "      <td>0.050525</td>\n",
              "      <td>0.050583</td>\n",
              "      <td>0.084822</td>\n",
              "      <td>0.040328</td>\n",
              "      <td>0.005826</td>\n",
              "      <td>0.047764</td>\n",
              "      <td>-0.009449</td>\n",
              "      <td>-0.009558</td>\n",
              "      <td>0.023606</td>\n",
              "      <td>...</td>\n",
              "      <td>-0.069402</td>\n",
              "      <td>-0.015242</td>\n",
              "      <td>0.095325</td>\n",
              "      <td>0.071164</td>\n",
              "      <td>-0.076503</td>\n",
              "      <td>0.025898</td>\n",
              "      <td>0.057286</td>\n",
              "      <td>0.189571</td>\n",
              "      <td>1.000000</td>\n",
              "      <td>-0.003320</td>\n",
              "    </tr>\n",
              "    <tr>\n",
              "      <th>h1n1_vaccine</th>\n",
              "      <td>-0.003280</td>\n",
              "      <td>0.121929</td>\n",
              "      <td>0.117951</td>\n",
              "      <td>0.040608</td>\n",
              "      <td>0.047690</td>\n",
              "      <td>0.070498</td>\n",
              "      <td>0.074712</td>\n",
              "      <td>0.017822</td>\n",
              "      <td>0.021768</td>\n",
              "      <td>0.071648</td>\n",
              "      <td>...</td>\n",
              "      <td>0.121170</td>\n",
              "      <td>0.269347</td>\n",
              "      <td>0.323265</td>\n",
              "      <td>0.075091</td>\n",
              "      <td>0.179272</td>\n",
              "      <td>0.258571</td>\n",
              "      <td>0.008360</td>\n",
              "      <td>0.007545</td>\n",
              "      <td>-0.003320</td>\n",
              "      <td>1.000000</td>\n",
              "    </tr>\n",
              "  </tbody>\n",
              "</table>\n",
              "<p>25 rows × 25 columns</p>\n",
              "</div>\n",
              "      <button class=\"colab-df-convert\" onclick=\"convertToInteractive('df-d9f1ec01-c921-4900-8f22-8df2158a1621')\"\n",
              "              title=\"Convert this dataframe to an interactive table.\"\n",
              "              style=\"display:none;\">\n",
              "        \n",
              "  <svg xmlns=\"http://www.w3.org/2000/svg\" height=\"24px\"viewBox=\"0 0 24 24\"\n",
              "       width=\"24px\">\n",
              "    <path d=\"M0 0h24v24H0V0z\" fill=\"none\"/>\n",
              "    <path d=\"M18.56 5.44l.94 2.06.94-2.06 2.06-.94-2.06-.94-.94-2.06-.94 2.06-2.06.94zm-11 1L8.5 8.5l.94-2.06 2.06-.94-2.06-.94L8.5 2.5l-.94 2.06-2.06.94zm10 10l.94 2.06.94-2.06 2.06-.94-2.06-.94-.94-2.06-.94 2.06-2.06.94z\"/><path d=\"M17.41 7.96l-1.37-1.37c-.4-.4-.92-.59-1.43-.59-.52 0-1.04.2-1.43.59L10.3 9.45l-7.72 7.72c-.78.78-.78 2.05 0 2.83L4 21.41c.39.39.9.59 1.41.59.51 0 1.02-.2 1.41-.59l7.78-7.78 2.81-2.81c.8-.78.8-2.07 0-2.86zM5.41 20L4 18.59l7.72-7.72 1.47 1.35L5.41 20z\"/>\n",
              "  </svg>\n",
              "      </button>\n",
              "      \n",
              "  <style>\n",
              "    .colab-df-container {\n",
              "      display:flex;\n",
              "      flex-wrap:wrap;\n",
              "      gap: 12px;\n",
              "    }\n",
              "\n",
              "    .colab-df-convert {\n",
              "      background-color: #E8F0FE;\n",
              "      border: none;\n",
              "      border-radius: 50%;\n",
              "      cursor: pointer;\n",
              "      display: none;\n",
              "      fill: #1967D2;\n",
              "      height: 32px;\n",
              "      padding: 0 0 0 0;\n",
              "      width: 32px;\n",
              "    }\n",
              "\n",
              "    .colab-df-convert:hover {\n",
              "      background-color: #E2EBFA;\n",
              "      box-shadow: 0px 1px 2px rgba(60, 64, 67, 0.3), 0px 1px 3px 1px rgba(60, 64, 67, 0.15);\n",
              "      fill: #174EA6;\n",
              "    }\n",
              "\n",
              "    [theme=dark] .colab-df-convert {\n",
              "      background-color: #3B4455;\n",
              "      fill: #D2E3FC;\n",
              "    }\n",
              "\n",
              "    [theme=dark] .colab-df-convert:hover {\n",
              "      background-color: #434B5C;\n",
              "      box-shadow: 0px 1px 3px 1px rgba(0, 0, 0, 0.15);\n",
              "      filter: drop-shadow(0px 1px 2px rgba(0, 0, 0, 0.3));\n",
              "      fill: #FFFFFF;\n",
              "    }\n",
              "  </style>\n",
              "\n",
              "      <script>\n",
              "        const buttonEl =\n",
              "          document.querySelector('#df-d9f1ec01-c921-4900-8f22-8df2158a1621 button.colab-df-convert');\n",
              "        buttonEl.style.display =\n",
              "          google.colab.kernel.accessAllowed ? 'block' : 'none';\n",
              "\n",
              "        async function convertToInteractive(key) {\n",
              "          const element = document.querySelector('#df-d9f1ec01-c921-4900-8f22-8df2158a1621');\n",
              "          const dataTable =\n",
              "            await google.colab.kernel.invokeFunction('convertToInteractive',\n",
              "                                                     [key], {});\n",
              "          if (!dataTable) return;\n",
              "\n",
              "          const docLinkHtml = 'Like what you see? Visit the ' +\n",
              "            '<a target=\"_blank\" href=https://colab.research.google.com/notebooks/data_table.ipynb>data table notebook</a>'\n",
              "            + ' to learn more about interactive tables.';\n",
              "          element.innerHTML = '';\n",
              "          dataTable['output_type'] = 'display_data';\n",
              "          await google.colab.output.renderOutput(dataTable, element);\n",
              "          const docLink = document.createElement('div');\n",
              "          docLink.innerHTML = docLinkHtml;\n",
              "          element.appendChild(docLink);\n",
              "        }\n",
              "      </script>\n",
              "    </div>\n",
              "  </div>\n",
              "  "
            ],
            "text/plain": [
              "                           unique_id  h1n1_worry  h1n1_awareness  \\\n",
              "unique_id                   1.000000    0.017839        0.003425   \n",
              "h1n1_worry                  0.017839    1.000000        0.062522   \n",
              "h1n1_awareness              0.003425    0.062522        1.000000   \n",
              "antiviral_medication       -0.008475    0.090301       -0.010836   \n",
              "contact_avoidance           0.009638    0.233713        0.088839   \n",
              "bought_face_mask           -0.006644    0.156032        0.030050   \n",
              "wash_hands_frequently       0.011105    0.293565        0.089785   \n",
              "avoid_large_gatherings      0.004539    0.255031       -0.048898   \n",
              "reduced_outside_home_cont   0.009011    0.246424       -0.068219   \n",
              "avoid_touch_face            0.007575    0.248016        0.086162   \n",
              "dr_recc_h1n1_vacc          -0.002072    0.150206        0.093829   \n",
              "dr_recc_seasonal_vacc       0.001500    0.135567        0.071920   \n",
              "chronic_medic_condition     0.005797    0.095162       -0.022602   \n",
              "cont_child_undr_6_mnths    -0.004839    0.049574        0.021598   \n",
              "is_health_worker           -0.003149    0.033562        0.170252   \n",
              "has_health_insur           -0.012603   -0.003655        0.119408   \n",
              "is_h1n1_vacc_effective      0.005912    0.239604        0.121009   \n",
              "is_h1n1_risky               0.000958    0.377033        0.073086   \n",
              "sick_from_h1n1_vacc        -0.002270    0.360070       -0.019501   \n",
              "is_seas_vacc_effective      0.005935    0.235136        0.086103   \n",
              "is_seas_risky              -0.005291    0.333990        0.076825   \n",
              "sick_from_seas_vacc         0.009563    0.225731       -0.062483   \n",
              "no_of_adults                0.000187   -0.015658        0.024874   \n",
              "no_of_children             -0.003726    0.050525        0.050583   \n",
              "h1n1_vaccine               -0.003280    0.121929        0.117951   \n",
              "\n",
              "                           antiviral_medication  contact_avoidance  \\\n",
              "unique_id                             -0.008475           0.009638   \n",
              "h1n1_worry                             0.090301           0.233713   \n",
              "h1n1_awareness                        -0.010836           0.088839   \n",
              "antiviral_medication                   1.000000           0.049247   \n",
              "contact_avoidance                      0.049247           1.000000   \n",
              "bought_face_mask                       0.146261           0.064946   \n",
              "wash_hands_frequently                  0.064119           0.338130   \n",
              "avoid_large_gatherings                 0.106287           0.227675   \n",
              "reduced_outside_home_cont              0.127679           0.220348   \n",
              "avoid_touch_face                       0.070868           0.335335   \n",
              "dr_recc_h1n1_vacc                      0.051235           0.068145   \n",
              "dr_recc_seasonal_vacc                  0.030909           0.074088   \n",
              "chronic_medic_condition                0.008465           0.039435   \n",
              "cont_child_undr_6_mnths                0.028788          -0.000414   \n",
              "is_health_worker                       0.009465           0.001180   \n",
              "has_health_insur                      -0.063988           0.032662   \n",
              "is_h1n1_vacc_effective                 0.030211           0.112300   \n",
              "is_h1n1_risky                          0.105163           0.117851   \n",
              "sick_from_h1n1_vacc                    0.079091           0.131405   \n",
              "is_seas_vacc_effective                 0.015003           0.119554   \n",
              "is_seas_risky                          0.085315           0.129504   \n",
              "sick_from_seas_vacc                    0.084305           0.082942   \n",
              "no_of_adults                           0.044900           0.019122   \n",
              "no_of_children                         0.084822           0.040328   \n",
              "h1n1_vaccine                           0.040608           0.047690   \n",
              "\n",
              "                           bought_face_mask  wash_hands_frequently  \\\n",
              "unique_id                         -0.006644               0.011105   \n",
              "h1n1_worry                         0.156032               0.293565   \n",
              "h1n1_awareness                     0.030050               0.089785   \n",
              "antiviral_medication               0.146261               0.064119   \n",
              "contact_avoidance                  0.064946               0.338130   \n",
              "bought_face_mask                   1.000000               0.083363   \n",
              "wash_hands_frequently              0.083363               1.000000   \n",
              "avoid_large_gatherings             0.180907               0.195364   \n",
              "reduced_outside_home_cont          0.163382               0.192619   \n",
              "avoid_touch_face                   0.104335               0.365064   \n",
              "dr_recc_h1n1_vacc                  0.084282               0.088729   \n",
              "dr_recc_seasonal_vacc              0.069481               0.102044   \n",
              "chronic_medic_condition            0.068113               0.030260   \n",
              "cont_child_undr_6_mnths            0.039726               0.036188   \n",
              "is_health_worker                   0.069992               0.053761   \n",
              "has_health_insur                  -0.040257               0.031919   \n",
              "is_h1n1_vacc_effective             0.037651               0.136987   \n",
              "is_h1n1_risky                      0.131165               0.168711   \n",
              "sick_from_h1n1_vacc                0.107129               0.150024   \n",
              "is_seas_vacc_effective             0.041556               0.138517   \n",
              "is_seas_risky                      0.110161               0.172464   \n",
              "sick_from_seas_vacc                0.090009               0.088029   \n",
              "no_of_adults                       0.013991               0.009669   \n",
              "no_of_children                     0.005826               0.047764   \n",
              "h1n1_vaccine                       0.070498               0.074712   \n",
              "\n",
              "                           avoid_large_gatherings  reduced_outside_home_cont  \\\n",
              "unique_id                                0.004539                   0.009011   \n",
              "h1n1_worry                               0.255031                   0.246424   \n",
              "h1n1_awareness                          -0.048898                  -0.068219   \n",
              "antiviral_medication                     0.106287                   0.127679   \n",
              "contact_avoidance                        0.227675                   0.220348   \n",
              "bought_face_mask                         0.180907                   0.163382   \n",
              "wash_hands_frequently                    0.195364                   0.192619   \n",
              "avoid_large_gatherings                   1.000000                   0.584085   \n",
              "reduced_outside_home_cont                0.584085                   1.000000   \n",
              "avoid_touch_face                         0.253683                   0.267719   \n",
              "dr_recc_h1n1_vacc                        0.082242                   0.070346   \n",
              "dr_recc_seasonal_vacc                    0.093557                   0.085622   \n",
              "chronic_medic_condition                  0.104721                   0.098858   \n",
              "cont_child_undr_6_mnths                  0.021168                   0.018195   \n",
              "is_health_worker                        -0.032319                  -0.034619   \n",
              "has_health_insur                        -0.059000                  -0.061381   \n",
              "is_h1n1_vacc_effective                   0.052299                   0.050748   \n",
              "is_h1n1_risky                            0.126463                   0.125549   \n",
              "sick_from_h1n1_vacc                      0.185924                   0.174834   \n",
              "is_seas_vacc_effective                   0.078491                   0.067469   \n",
              "is_seas_risky                            0.132865                   0.120237   \n",
              "sick_from_seas_vacc                      0.135446                   0.138133   \n",
              "no_of_adults                            -0.031938                  -0.027527   \n",
              "no_of_children                          -0.009449                  -0.009558   \n",
              "h1n1_vaccine                             0.017822                   0.021768   \n",
              "\n",
              "                           avoid_touch_face  ...  has_health_insur  \\\n",
              "unique_id                          0.007575  ...         -0.012603   \n",
              "h1n1_worry                         0.248016  ...         -0.003655   \n",
              "h1n1_awareness                     0.086162  ...          0.119408   \n",
              "antiviral_medication               0.070868  ...         -0.063988   \n",
              "contact_avoidance                  0.335335  ...          0.032662   \n",
              "bought_face_mask                   0.104335  ...         -0.040257   \n",
              "wash_hands_frequently              0.365064  ...          0.031919   \n",
              "avoid_large_gatherings             0.253683  ...         -0.059000   \n",
              "reduced_outside_home_cont          0.267719  ...         -0.061381   \n",
              "avoid_touch_face                   1.000000  ...          0.011024   \n",
              "dr_recc_h1n1_vacc                  0.088221  ...          0.067157   \n",
              "dr_recc_seasonal_vacc              0.100808  ...          0.117195   \n",
              "chronic_medic_condition            0.028876  ...          0.066088   \n",
              "cont_child_undr_6_mnths            0.026640  ...         -0.026836   \n",
              "is_health_worker                   0.067648  ...          0.046680   \n",
              "has_health_insur                   0.011024  ...          1.000000   \n",
              "is_h1n1_vacc_effective             0.104126  ...          0.058675   \n",
              "is_h1n1_risky                      0.146080  ...          0.005766   \n",
              "sick_from_h1n1_vacc                0.131772  ...         -0.033314   \n",
              "is_seas_vacc_effective             0.105798  ...          0.091247   \n",
              "is_seas_risky                      0.143735  ...          0.050232   \n",
              "sick_from_seas_vacc                0.090097  ...         -0.065886   \n",
              "no_of_adults                      -0.000553  ...         -0.078697   \n",
              "no_of_children                     0.023606  ...         -0.069402   \n",
              "h1n1_vaccine                       0.071648  ...          0.121170   \n",
              "\n",
              "                           is_h1n1_vacc_effective  is_h1n1_risky  \\\n",
              "unique_id                                0.005912       0.000958   \n",
              "h1n1_worry                               0.239604       0.377033   \n",
              "h1n1_awareness                           0.121009       0.073086   \n",
              "antiviral_medication                     0.030211       0.105163   \n",
              "contact_avoidance                        0.112300       0.117851   \n",
              "bought_face_mask                         0.037651       0.131165   \n",
              "wash_hands_frequently                    0.136987       0.168711   \n",
              "avoid_large_gatherings                   0.052299       0.126463   \n",
              "reduced_outside_home_cont                0.050748       0.125549   \n",
              "avoid_touch_face                         0.104126       0.146080   \n",
              "dr_recc_h1n1_vacc                        0.152305       0.262826   \n",
              "dr_recc_seasonal_vacc                    0.118614       0.168443   \n",
              "chronic_medic_condition                  0.044145       0.121657   \n",
              "cont_child_undr_6_mnths                  0.007094       0.086516   \n",
              "is_health_worker                         0.053581       0.123869   \n",
              "has_health_insur                         0.058675       0.005766   \n",
              "is_h1n1_vacc_effective                   1.000000       0.261304   \n",
              "is_h1n1_risky                            0.261304       1.000000   \n",
              "sick_from_h1n1_vacc                      0.062372       0.335062   \n",
              "is_seas_vacc_effective                   0.472467       0.224469   \n",
              "is_seas_risky                            0.258173       0.564208   \n",
              "sick_from_seas_vacc                      0.012491       0.198601   \n",
              "no_of_adults                             0.010970       0.030181   \n",
              "no_of_children                          -0.015242       0.095325   \n",
              "h1n1_vaccine                             0.269347       0.323265   \n",
              "\n",
              "                           sick_from_h1n1_vacc  is_seas_vacc_effective  \\\n",
              "unique_id                            -0.002270                0.005935   \n",
              "h1n1_worry                            0.360070                0.235136   \n",
              "h1n1_awareness                       -0.019501                0.086103   \n",
              "antiviral_medication                  0.079091                0.015003   \n",
              "contact_avoidance                     0.131405                0.119554   \n",
              "bought_face_mask                      0.107129                0.041556   \n",
              "wash_hands_frequently                 0.150024                0.138517   \n",
              "avoid_large_gatherings                0.185924                0.078491   \n",
              "reduced_outside_home_cont             0.174834                0.067469   \n",
              "avoid_touch_face                      0.131772                0.105798   \n",
              "dr_recc_h1n1_vacc                     0.113111                0.107512   \n",
              "dr_recc_seasonal_vacc                 0.067178                0.180902   \n",
              "chronic_medic_condition               0.081943                0.091737   \n",
              "cont_child_undr_6_mnths               0.037212                0.003653   \n",
              "is_health_worker                      0.009015                0.030395   \n",
              "has_health_insur                     -0.033314                0.091247   \n",
              "is_h1n1_vacc_effective                0.062372                0.472467   \n",
              "is_h1n1_risky                         0.335062                0.224469   \n",
              "sick_from_h1n1_vacc                   1.000000                0.078097   \n",
              "is_seas_vacc_effective                0.078097                1.000000   \n",
              "is_seas_risky                         0.267013                0.344800   \n",
              "sick_from_seas_vacc                   0.491546               -0.017340   \n",
              "no_of_adults                          0.014769               -0.022579   \n",
              "no_of_children                        0.071164               -0.076503   \n",
              "h1n1_vaccine                          0.075091                0.179272   \n",
              "\n",
              "                           is_seas_risky  sick_from_seas_vacc  no_of_adults  \\\n",
              "unique_id                      -0.005291             0.009563      0.000187   \n",
              "h1n1_worry                      0.333990             0.225731     -0.015658   \n",
              "h1n1_awareness                  0.076825            -0.062483      0.024874   \n",
              "antiviral_medication            0.085315             0.084305      0.044900   \n",
              "contact_avoidance               0.129504             0.082942      0.019122   \n",
              "bought_face_mask                0.110161             0.090009      0.013991   \n",
              "wash_hands_frequently           0.172464             0.088029      0.009669   \n",
              "avoid_large_gatherings          0.132865             0.135446     -0.031938   \n",
              "reduced_outside_home_cont       0.120237             0.138133     -0.027527   \n",
              "avoid_touch_face                0.143735             0.090097     -0.000553   \n",
              "dr_recc_h1n1_vacc               0.202320             0.057128      0.004112   \n",
              "dr_recc_seasonal_vacc           0.240087             0.025356     -0.040769   \n",
              "chronic_medic_condition         0.162061             0.052587     -0.071346   \n",
              "cont_child_undr_6_mnths         0.050267             0.037582      0.044828   \n",
              "is_health_worker                0.089142            -0.017893      0.013380   \n",
              "has_health_insur                0.050232            -0.065886     -0.078697   \n",
              "is_h1n1_vacc_effective          0.258173             0.012491      0.010970   \n",
              "is_h1n1_risky                   0.564208             0.198601      0.030181   \n",
              "sick_from_h1n1_vacc             0.267013             0.491546      0.014769   \n",
              "is_seas_vacc_effective          0.344800            -0.017340     -0.022579   \n",
              "is_seas_risky                   1.000000             0.200379      0.006111   \n",
              "sick_from_seas_vacc             0.200379             1.000000      0.022925   \n",
              "no_of_adults                    0.006111             0.022925      1.000000   \n",
              "no_of_children                  0.025898             0.057286      0.189571   \n",
              "h1n1_vaccine                    0.258571             0.008360      0.007545   \n",
              "\n",
              "                           no_of_children  h1n1_vaccine  \n",
              "unique_id                       -0.003726     -0.003280  \n",
              "h1n1_worry                       0.050525      0.121929  \n",
              "h1n1_awareness                   0.050583      0.117951  \n",
              "antiviral_medication             0.084822      0.040608  \n",
              "contact_avoidance                0.040328      0.047690  \n",
              "bought_face_mask                 0.005826      0.070498  \n",
              "wash_hands_frequently            0.047764      0.074712  \n",
              "avoid_large_gatherings          -0.009449      0.017822  \n",
              "reduced_outside_home_cont       -0.009558      0.021768  \n",
              "avoid_touch_face                 0.023606      0.071648  \n",
              "dr_recc_h1n1_vacc                0.029040      0.393890  \n",
              "dr_recc_seasonal_vacc           -0.048380      0.209864  \n",
              "chronic_medic_condition         -0.108237      0.095207  \n",
              "cont_child_undr_6_mnths          0.099562      0.066962  \n",
              "is_health_worker                 0.037698      0.169768  \n",
              "has_health_insur                -0.069402      0.121170  \n",
              "is_h1n1_vacc_effective          -0.015242      0.269347  \n",
              "is_h1n1_risky                    0.095325      0.323265  \n",
              "sick_from_h1n1_vacc              0.071164      0.075091  \n",
              "is_seas_vacc_effective          -0.076503      0.179272  \n",
              "is_seas_risky                    0.025898      0.258571  \n",
              "sick_from_seas_vacc              0.057286      0.008360  \n",
              "no_of_adults                     0.189571      0.007545  \n",
              "no_of_children                   1.000000     -0.003320  \n",
              "h1n1_vaccine                    -0.003320      1.000000  \n",
              "\n",
              "[25 rows x 25 columns]"
            ]
          },
          "execution_count": 10,
          "metadata": {},
          "output_type": "execute_result"
        }
      ],
      "source": [
        "corr=df.corr()\n",
        "corr"
      ]
    },
    {
      "cell_type": "code",
      "execution_count": null,
      "metadata": {
        "colab": {
          "base_uri": "https://localhost:8080/",
          "height": 591
        },
        "id": "_3hppPS5E-34",
        "outputId": "6eb0653d-a2ec-4bba-b96f-a33cd002932c"
      },
      "outputs": [
        {
          "data": {
            "image/png": "[encoded data removed]",
            "text/plain": [
              "<Figure size 640x480 with 2 Axes>"
            ]
          },
          "metadata": {},
          "output_type": "display_data"
        },
        {
          "data": {
            "text/plain": [
              "<Figure size 1500x1000 with 0 Axes>"
            ]
          },
          "metadata": {},
          "output_type": "display_data"
        }
      ],
      "source": [
        "sns.heatmap(corr,annot=True,cmap=\"YlGnBu\")\n",
        "plt.figure(figsize=(15,10))\n",
        "plt.show()"
      ]
    },
    {
      "cell_type": "code",
      "execution_count": null,
      "metadata": {
        "id": "lzA10B3pFuq-"
      },
      "outputs": [],
      "source": [
        "df.fillna({\"is_h1n1_vacc_effective\":df[\"is_h1n1_vacc_effective\"].median(),\"is_h1n1_risky\":df[\"is_h1n1_risky\"].median(),\"sick_from_h1n1_vacc\":df[\"sick_from_h1n1_vacc\"].median(),\"is_seas_vacc_effective\":df[\"is_seas_vacc_effective\"].median(),\"is_seas_risky\":df[\"is_seas_risky\"].median(),\"sick_from_seas_vacc\":df[\"sick_from_seas_vacc\"].median()},inplace=True)"
      ]
    },
    {
      "cell_type": "code",
      "execution_count": null,
      "metadata": {
        "colab": {
          "base_uri": "https://localhost:8080/",
          "height": 143
        },
        "id": "OG3eAJaQYpQ7",
        "outputId": "2f3218ff-e62e-4d5e-9c43-f3a6db298d86"
      },
      "outputs": [
        {
          "data": {
            "text/html": [
              "\n",
              "  <div id=\"df-7eb50842-e4ee-4766-a079-193aaad15488\">\n",
              "    <div class=\"colab-df-container\">\n",
              "      <div>\n",
              "<style scoped>\n",
              "    .dataframe tbody tr th:only-of-type {\n",
              "        vertical-align: middle;\n",
              "    }\n",
              "\n",
              "    .dataframe tbody tr th {\n",
              "        vertical-align: top;\n",
              "    }\n",
              "\n",
              "    .dataframe thead th {\n",
              "        text-align: right;\n",
              "    }\n",
              "</style>\n",
              "<table border=\"1\" class=\"dataframe\">\n",
              "  <thead>\n",
              "    <tr style=\"text-align: right;\">\n",
              "      <th>sex</th>\n",
              "      <th>0</th>\n",
              "      <th>1</th>\n",
              "    </tr>\n",
              "    <tr>\n",
              "      <th>h1n1_vaccine</th>\n",
              "      <th></th>\n",
              "      <th></th>\n",
              "    </tr>\n",
              "  </thead>\n",
              "  <tbody>\n",
              "    <tr>\n",
              "      <th>0</th>\n",
              "      <td>12378</td>\n",
              "      <td>8655</td>\n",
              "    </tr>\n",
              "    <tr>\n",
              "      <th>1</th>\n",
              "      <td>3480</td>\n",
              "      <td>2194</td>\n",
              "    </tr>\n",
              "  </tbody>\n",
              "</table>\n",
              "</div>\n",
              "      <button class=\"colab-df-convert\" onclick=\"convertToInteractive('df-7eb50842-e4ee-4766-a079-193aaad15488')\"\n",
              "              title=\"Convert this dataframe to an interactive table.\"\n",
              "              style=\"display:none;\">\n",
              "        \n",
              "  <svg xmlns=\"http://www.w3.org/2000/svg\" height=\"24px\"viewBox=\"0 0 24 24\"\n",
              "       width=\"24px\">\n",
              "    <path d=\"M0 0h24v24H0V0z\" fill=\"none\"/>\n",
              "    <path d=\"M18.56 5.44l.94 2.06.94-2.06 2.06-.94-2.06-.94-.94-2.06-.94 2.06-2.06.94zm-11 1L8.5 8.5l.94-2.06 2.06-.94-2.06-.94L8.5 2.5l-.94 2.06-2.06.94zm10 10l.94 2.06.94-2.06 2.06-.94-2.06-.94-.94-2.06-.94 2.06-2.06.94z\"/><path d=\"M17.41 7.96l-1.37-1.37c-.4-.4-.92-.59-1.43-.59-.52 0-1.04.2-1.43.59L10.3 9.45l-7.72 7.72c-.78.78-.78 2.05 0 2.83L4 21.41c.39.39.9.59 1.41.59.51 0 1.02-.2 1.41-.59l7.78-7.78 2.81-2.81c.8-.78.8-2.07 0-2.86zM5.41 20L4 18.59l7.72-7.72 1.47 1.35L5.41 20z\"/>\n",
              "  </svg>\n",
              "      </button>\n",
              "      \n",
              "  <style>\n",
              "    .colab-df-container {\n",
              "      display:flex;\n",
              "      flex-wrap:wrap;\n",
              "      gap: 12px;\n",
              "    }\n",
              "\n",
              "    .colab-df-convert {\n",
              "      background-color: #E8F0FE;\n",
              "      border: none;\n",
              "      border-radius: 50%;\n",
              "      cursor: pointer;\n",
              "      display: none;\n",
              "      fill: #1967D2;\n",
              "      height: 32px;\n",
              "      padding: 0 0 0 0;\n",
              "      width: 32px;\n",
              "    }\n",
              "\n",
              "    .colab-df-convert:hover {\n",
              "      background-color: #E2EBFA;\n",
              "      box-shadow: 0px 1px 2px rgba(60, 64, 67, 0.3), 0px 1px 3px 1px rgba(60, 64, 67, 0.15);\n",
              "      fill: #174EA6;\n",
              "    }\n",
              "\n",
              "    [theme=dark] .colab-df-convert {\n",
              "      background-color: #3B4455;\n",
              "      fill: #D2E3FC;\n",
              "    }\n",
              "\n",
              "    [theme=dark] .colab-df-convert:hover {\n",
              "      background-color: #434B5C;\n",
              "      box-shadow: 0px 1px 3px 1px rgba(0, 0, 0, 0.15);\n",
              "      filter: drop-shadow(0px 1px 2px rgba(0, 0, 0, 0.3));\n",
              "      fill: #FFFFFF;\n",
              "    }\n",
              "  </style>\n",
              "\n",
              "      <script>\n",
              "        const buttonEl =\n",
              "          document.querySelector('#df-7eb50842-e4ee-4766-a079-193aaad15488 button.colab-df-convert');\n",
              "        buttonEl.style.display =\n",
              "          google.colab.kernel.accessAllowed ? 'block' : 'none';\n",
              "\n",
              "        async function convertToInteractive(key) {\n",
              "          const element = document.querySelector('#df-7eb50842-e4ee-4766-a079-193aaad15488');\n",
              "          const dataTable =\n",
              "            await google.colab.kernel.invokeFunction('convertToInteractive',\n",
              "                                                     [key], {});\n",
              "          if (!dataTable) return;\n",
              "\n",
              "          const docLinkHtml = 'Like what you see? Visit the ' +\n",
              "            '<a target=\"_blank\" href=https://colab.research.google.com/notebooks/data_table.ipynb>data table notebook</a>'\n",
              "            + ' to learn more about interactive tables.';\n",
              "          element.innerHTML = '';\n",
              "          dataTable['output_type'] = 'display_data';\n",
              "          await google.colab.output.renderOutput(dataTable, element);\n",
              "          const docLink = document.createElement('div');\n",
              "          docLink.innerHTML = docLinkHtml;\n",
              "          element.appendChild(docLink);\n",
              "        }\n",
              "      </script>\n",
              "    </div>\n",
              "  </div>\n",
              "  "
            ],
            "text/plain": [
              "sex               0     1\n",
              "h1n1_vaccine             \n",
              "0             12378  8655\n",
              "1              3480  2194"
            ]
          },
          "execution_count": 89,
          "metadata": {},
          "output_type": "execute_result"
        }
      ],
      "source": [
        "pd.crosstab(df[\"h1n1_vaccine\"],df[\"sex\"])"
      ]
    },
    {
      "cell_type": "code",
      "execution_count": null,
      "metadata": {
        "colab": {
          "base_uri": "https://localhost:8080/",
          "height": 467
        },
        "id": "aqiBwOBbY2qv",
        "outputId": "1fb1d215-a257-4b60-85b7-c2bd641ee83e"
      },
      "outputs": [
        {
          "data": {
            "text/plain": [
              "<Axes: xlabel='h1n1_worry', ylabel='count'>"
            ]
          },
          "execution_count": 90,
          "metadata": {},
          "output_type": "execute_result"
        },
        {
          "data": {
            "image/png": "[encoded data removed]",
            "text/plain": [
              "<Figure size 640x480 with 1 Axes>"
            ]
          },
          "metadata": {},
          "output_type": "display_data"
        }
      ],
      "source": [
        "sns.countplot(x=\"h1n1_worry\",data=df,palette=\"coolwarm\")"
      ]
    },
    {
      "cell_type": "code",
      "execution_count": null,
      "metadata": {
        "id": "WmL8O1B8HKAu"
      },
      "outputs": [],
      "source": [
        "df.fillna({\"bought_face_mask\":df[\"bought_face_mask\"].median(),\"wash_hands_frequently\":df[\"wash_hands_frequently\"].median(),\"avoid_large_gatherings\":df[\"avoid_large_gatherings\"].median(),\"reduced_outside_home_cont\":df[\"reduced_outside_home_cont\"].median(),\"avoid_touch_face\":df[\"avoid_touch_face\"].median()},inplace=True)"
      ]
    },
    {
      "cell_type": "code",
      "execution_count": null,
      "metadata": {
        "id": "2liMkOIPY1ld"
      },
      "outputs": [],
      "source": []
    },
    {
      "cell_type": "code",
      "execution_count": null,
      "metadata": {
        "colab": {
          "base_uri": "https://localhost:8080/"
        },
        "id": "OIrQRLAoHR7o",
        "outputId": "815acac1-91dc-4c07-be51-d261f8525e4e"
      },
      "outputs": [
        {
          "data": {
            "text/plain": [
              "2.0    10575\n",
              "1.0     8153\n",
              "3.0     4591\n",
              "0.0     3296\n",
              "Name: h1n1_worry, dtype: int64"
            ]
          },
          "execution_count": 17,
          "metadata": {},
          "output_type": "execute_result"
        }
      ],
      "source": [
        "df[\"h1n1_worry\"].value_counts()"
      ]
    },
    {
      "cell_type": "code",
      "execution_count": null,
      "metadata": {
        "colab": {
          "base_uri": "https://localhost:8080/"
        },
        "id": "L9agsmheHXph",
        "outputId": "eab5a775-c55a-467e-cac8-48b3059b3ded"
      },
      "outputs": [
        {
          "data": {
            "text/plain": [
              "2.0"
            ]
          },
          "execution_count": 18,
          "metadata": {},
          "output_type": "execute_result"
        }
      ],
      "source": [
        "me=df[\"h1n1_worry\"].median()\n",
        "me"
      ]
    },
    {
      "cell_type": "code",
      "execution_count": null,
      "metadata": {
        "id": "x_5DcJ3aHe1r"
      },
      "outputs": [],
      "source": [
        "df[\"h1n1_worry\"]=df[\"h1n1_worry\"].fillna(me)"
      ]
    },
    {
      "cell_type": "code",
      "execution_count": null,
      "metadata": {
        "colab": {
          "base_uri": "https://localhost:8080/"
        },
        "id": "JKGk73pYI-tL",
        "outputId": "37720cc7-5d5f-4468-bd2b-13110ed86a66"
      },
      "outputs": [
        {
          "name": "stdout",
          "output_type": "stream",
          "text": [
            "<class 'pandas.core.frame.DataFrame'>\n",
            "RangeIndex: 26707 entries, 0 to 26706\n",
            "Data columns (total 34 columns):\n",
            " #   Column                     Non-Null Count  Dtype  \n",
            "---  ------                     --------------  -----  \n",
            " 0   unique_id                  26707 non-null  int64  \n",
            " 1   h1n1_worry                 26707 non-null  float64\n",
            " 2   h1n1_awareness             26591 non-null  float64\n",
            " 3   antiviral_medication       26636 non-null  float64\n",
            " 4   contact_avoidance          26499 non-null  float64\n",
            " 5   bought_face_mask           26707 non-null  float64\n",
            " 6   wash_hands_frequently      26707 non-null  float64\n",
            " 7   avoid_large_gatherings     26707 non-null  float64\n",
            " 8   reduced_outside_home_cont  26707 non-null  float64\n",
            " 9   avoid_touch_face           26707 non-null  float64\n",
            " 10  dr_recc_h1n1_vacc          24547 non-null  float64\n",
            " 11  dr_recc_seasonal_vacc      24547 non-null  float64\n",
            " 12  chronic_medic_condition    25736 non-null  float64\n",
            " 13  cont_child_undr_6_mnths    25887 non-null  float64\n",
            " 14  is_health_worker           25903 non-null  float64\n",
            " 15  has_health_insur           14433 non-null  float64\n",
            " 16  is_h1n1_vacc_effective     26707 non-null  float64\n",
            " 17  is_h1n1_risky              26707 non-null  float64\n",
            " 18  sick_from_h1n1_vacc        26707 non-null  float64\n",
            " 19  is_seas_vacc_effective     26707 non-null  float64\n",
            " 20  is_seas_risky              26707 non-null  float64\n",
            " 21  sick_from_seas_vacc        26707 non-null  float64\n",
            " 22  age_bracket                26707 non-null  object \n",
            " 23  qualification              25300 non-null  object \n",
            " 24  race                       26707 non-null  object \n",
            " 25  sex                        26707 non-null  object \n",
            " 26  income_level               22284 non-null  object \n",
            " 27  marital_status             25299 non-null  object \n",
            " 28  housing_status             24665 non-null  object \n",
            " 29  employment                 25244 non-null  object \n",
            " 30  census_msa                 26707 non-null  object \n",
            " 31  no_of_adults               26458 non-null  float64\n",
            " 32  no_of_children             26458 non-null  float64\n",
            " 33  h1n1_vaccine               26707 non-null  int64  \n",
            "dtypes: float64(23), int64(2), object(9)\n",
            "memory usage: 6.9+ MB\n"
          ]
        }
      ],
      "source": [
        "df.info()"
      ]
    },
    {
      "cell_type": "code",
      "execution_count": null,
      "metadata": {
        "colab": {
          "base_uri": "https://localhost:8080/"
        },
        "id": "ZnEPyWvaJCAA",
        "outputId": "497f9f8c-8500-4625-cbef-4c3013bb75ff"
      },
      "outputs": [
        {
          "data": {
            "text/plain": [
              "1.0    14598\n",
              "2.0     9487\n",
              "0.0     2506\n",
              "Name: h1n1_awareness, dtype: int64"
            ]
          },
          "execution_count": 21,
          "metadata": {},
          "output_type": "execute_result"
        }
      ],
      "source": [
        "df[\"h1n1_awareness\"].value_counts()"
      ]
    },
    {
      "cell_type": "code",
      "execution_count": null,
      "metadata": {
        "colab": {
          "base_uri": "https://localhost:8080/"
        },
        "id": "YBNyGER1JJ-L",
        "outputId": "320d7949-f249-4eb7-e987-193a02d68d35"
      },
      "outputs": [
        {
          "data": {
            "text/plain": [
              "1.0"
            ]
          },
          "execution_count": 22,
          "metadata": {},
          "output_type": "execute_result"
        }
      ],
      "source": [
        "df[\"h1n1_awareness\"].median()"
      ]
    },
    {
      "cell_type": "code",
      "execution_count": null,
      "metadata": {
        "id": "CD9otgMVJN2j"
      },
      "outputs": [],
      "source": [
        "df[\"h1n1_awareness\"]=df[\"h1n1_awareness\"].fillna(df[\"h1n1_awareness\"].median())"
      ]
    },
    {
      "cell_type": "code",
      "execution_count": null,
      "metadata": {
        "colab": {
          "base_uri": "https://localhost:8080/"
        },
        "id": "usf8Iwx1JaJB",
        "outputId": "807c5c43-9e5e-4b26-8219-09bb04bc4b08"
      },
      "outputs": [
        {
          "data": {
            "text/plain": [
              "(26707, 34)"
            ]
          },
          "execution_count": 24,
          "metadata": {},
          "output_type": "execute_result"
        }
      ],
      "source": [
        "df.shape"
      ]
    },
    {
      "cell_type": "code",
      "execution_count": null,
      "metadata": {
        "colab": {
          "base_uri": "https://localhost:8080/"
        },
        "id": "72M2mkQIJb-a",
        "outputId": "1996fd84-a3ae-4d55-b895-e0bbd273cff1"
      },
      "outputs": [
        {
          "data": {
            "text/plain": [
              "0.0    25335\n",
              "1.0     1301\n",
              "Name: antiviral_medication, dtype: int64"
            ]
          },
          "execution_count": 25,
          "metadata": {},
          "output_type": "execute_result"
        }
      ],
      "source": [
        "df[\"antiviral_medication\"].value_counts()"
      ]
    },
    {
      "cell_type": "code",
      "execution_count": null,
      "metadata": {
        "id": "jIMMgXwMJhBZ"
      },
      "outputs": [],
      "source": [
        "df[\"antiviral_medication\"]=df[\"antiviral_medication\"].fillna(df[\"antiviral_medication\"].median())"
      ]
    },
    {
      "cell_type": "code",
      "execution_count": null,
      "metadata": {
        "colab": {
          "base_uri": "https://localhost:8080/"
        },
        "id": "tOuvwIqxJuQC",
        "outputId": "e4a14249-8ebe-456a-c3c3-c942ab99ccfc"
      },
      "outputs": [
        {
          "data": {
            "text/plain": [
              "1.0    19228\n",
              "0.0     7271\n",
              "Name: contact_avoidance, dtype: int64"
            ]
          },
          "execution_count": 27,
          "metadata": {},
          "output_type": "execute_result"
        }
      ],
      "source": [
        "df[\"contact_avoidance\"].value_counts()"
      ]
    },
    {
      "cell_type": "code",
      "execution_count": null,
      "metadata": {
        "id": "K9RDrFB1JyTe"
      },
      "outputs": [],
      "source": [
        "df[\"contact_avoidance\"]=df[\"contact_avoidance\"].fillna(df[\"contact_avoidance\"].median())"
      ]
    },
    {
      "cell_type": "code",
      "execution_count": null,
      "metadata": {
        "colab": {
          "base_uri": "https://localhost:8080/"
        },
        "id": "BwXixaYrJ4dr",
        "outputId": "ad083880-3c10-49ac-b599-eb0dd2696ece"
      },
      "outputs": [
        {
          "data": {
            "text/plain": [
              "unique_id                        0\n",
              "h1n1_worry                       0\n",
              "h1n1_awareness                   0\n",
              "antiviral_medication             0\n",
              "contact_avoidance                0\n",
              "bought_face_mask                 0\n",
              "wash_hands_frequently            0\n",
              "avoid_large_gatherings           0\n",
              "reduced_outside_home_cont        0\n",
              "avoid_touch_face                 0\n",
              "dr_recc_h1n1_vacc             2160\n",
              "dr_recc_seasonal_vacc         2160\n",
              "chronic_medic_condition        971\n",
              "cont_child_undr_6_mnths        820\n",
              "is_health_worker               804\n",
              "has_health_insur             12274\n",
              "is_h1n1_vacc_effective           0\n",
              "is_h1n1_risky                    0\n",
              "sick_from_h1n1_vacc              0\n",
              "is_seas_vacc_effective           0\n",
              "is_seas_risky                    0\n",
              "sick_from_seas_vacc              0\n",
              "age_bracket                      0\n",
              "qualification                 1407\n",
              "race                             0\n",
              "sex                              0\n",
              "income_level                  4423\n",
              "marital_status                1408\n",
              "housing_status                2042\n",
              "employment                    1463\n",
              "census_msa                       0\n",
              "no_of_adults                   249\n",
              "no_of_children                 249\n",
              "h1n1_vaccine                     0\n",
              "dtype: int64"
            ]
          },
          "execution_count": 29,
          "metadata": {},
          "output_type": "execute_result"
        }
      ],
      "source": [
        "df.isnull().sum()"
      ]
    },
    {
      "cell_type": "code",
      "execution_count": null,
      "metadata": {
        "colab": {
          "base_uri": "https://localhost:8080/"
        },
        "id": "Uh82ByJkJ8ts",
        "outputId": "cbfd3f1a-9d39-4a0c-9289-2afa6b96d20d"
      },
      "outputs": [
        {
          "data": {
            "text/plain": [
              "0.0    19139\n",
              "1.0     5408\n",
              "Name: dr_recc_h1n1_vacc, dtype: int64"
            ]
          },
          "execution_count": 30,
          "metadata": {},
          "output_type": "execute_result"
        }
      ],
      "source": [
        "df[\"dr_recc_h1n1_vacc\"].value_counts()"
      ]
    },
    {
      "cell_type": "code",
      "execution_count": null,
      "metadata": {
        "id": "-RDsRWrJKBPn"
      },
      "outputs": [],
      "source": [
        "df[\"dr_recc_h1n1_vacc\"]=df[\"dr_recc_h1n1_vacc\"].fillna(df[\"dr_recc_h1n1_vacc\"].median())"
      ]
    },
    {
      "cell_type": "code",
      "execution_count": null,
      "metadata": {
        "id": "FMOzf7jiKDXZ"
      },
      "outputs": [],
      "source": [
        "df.fillna({\"dr_recc_seasonal_vacc\":df[\"dr_recc_seasonal_vacc\"].median(),\"chronic_medic_condition\":df[\"chronic_medic_condition\"].median(),\"cont_child_undr_6_mnths\":df[\"cont_child_undr_6_mnths\"].median(),\"is_health_worker\":df[\"is_health_worker\"].median()},inplace=True)"
      ]
    },
    {
      "cell_type": "code",
      "execution_count": null,
      "metadata": {
        "colab": {
          "base_uri": "https://localhost:8080/"
        },
        "id": "IUHNwpa9KMWD",
        "outputId": "718b2733-389b-4fa9-c8f5-7c397a420c74"
      },
      "outputs": [
        {
          "data": {
            "text/plain": [
              "1.0    12697\n",
              "0.0     1736\n",
              "Name: has_health_insur, dtype: int64"
            ]
          },
          "execution_count": 34,
          "metadata": {},
          "output_type": "execute_result"
        }
      ],
      "source": [
        "df[\"has_health_insur\"].value_counts()"
      ]
    },
    {
      "cell_type": "code",
      "execution_count": null,
      "metadata": {
        "colab": {
          "base_uri": "https://localhost:8080/"
        },
        "id": "DgiT7lg4KVHb",
        "outputId": "bea3093e-503e-42f8-c3b3-fda6557c481d"
      },
      "outputs": [
        {
          "data": {
            "text/plain": [
              "unique_id                        0\n",
              "h1n1_worry                       0\n",
              "h1n1_awareness                   0\n",
              "antiviral_medication             0\n",
              "contact_avoidance                0\n",
              "bought_face_mask                 0\n",
              "wash_hands_frequently            0\n",
              "avoid_large_gatherings           0\n",
              "reduced_outside_home_cont        0\n",
              "avoid_touch_face                 0\n",
              "dr_recc_h1n1_vacc                0\n",
              "dr_recc_seasonal_vacc            0\n",
              "chronic_medic_condition          0\n",
              "cont_child_undr_6_mnths          0\n",
              "is_health_worker                 0\n",
              "has_health_insur             12274\n",
              "is_h1n1_vacc_effective           0\n",
              "is_h1n1_risky                    0\n",
              "sick_from_h1n1_vacc              0\n",
              "is_seas_vacc_effective           0\n",
              "is_seas_risky                    0\n",
              "sick_from_seas_vacc              0\n",
              "age_bracket                      0\n",
              "qualification                 1407\n",
              "race                             0\n",
              "sex                              0\n",
              "income_level                  4423\n",
              "marital_status                1408\n",
              "housing_status                2042\n",
              "employment                    1463\n",
              "census_msa                       0\n",
              "no_of_adults                   249\n",
              "no_of_children                 249\n",
              "h1n1_vaccine                     0\n",
              "dtype: int64"
            ]
          },
          "execution_count": 35,
          "metadata": {},
          "output_type": "execute_result"
        }
      ],
      "source": [
        "df.isnull().sum()"
      ]
    },
    {
      "cell_type": "code",
      "execution_count": null,
      "metadata": {
        "colab": {
          "base_uri": "https://localhost:8080/",
          "height": 36
        },
        "id": "Ld_KW8-FKXMd",
        "outputId": "ac42087a-26ed-4b3e-9102-cc3198d30bc3"
      },
      "outputs": [
        {
          "data": {
            "application/vnd.google.colaboratory.intrinsic+json": {
              "type": "string"
            },
            "text/plain": [
              "'College Graduate'"
            ]
          },
          "execution_count": 36,
          "metadata": {},
          "output_type": "execute_result"
        }
      ],
      "source": [
        "df[\"qualification\"].mode()[0]"
      ]
    },
    {
      "cell_type": "code",
      "execution_count": null,
      "metadata": {
        "id": "XI4eE9VpKhJH"
      },
      "outputs": [],
      "source": [
        "df.fillna({\"qualification\":df[\"qualification\"].mode()[0],\"income_level\":df[\"income_level\"].mode()[0],\"marital_status\":df[\"marital_status\"].mode()[0],\"housing_status\":df[\"housing_status\"].mode()[0],\"employment\":df[\"employment\"].mode()[0]},inplace=True)"
      ]
    },
    {
      "cell_type": "code",
      "execution_count": null,
      "metadata": {
        "colab": {
          "base_uri": "https://localhost:8080/"
        },
        "id": "g_1MRM_pKnwN",
        "outputId": "fb3af54f-db12-4862-85b7-2700249d844f"
      },
      "outputs": [
        {
          "data": {
            "text/plain": [
              "65+ Years        6843\n",
              "55 - 64 Years    5563\n",
              "45 - 54 Years    5238\n",
              "18 - 34 Years    5215\n",
              "35 - 44 Years    3848\n",
              "Name: age_bracket, dtype: int64"
            ]
          },
          "execution_count": 38,
          "metadata": {},
          "output_type": "execute_result"
        }
      ],
      "source": [
        "df[\"age_bracket\"].value_counts()"
      ]
    },
    {
      "cell_type": "code",
      "execution_count": null,
      "metadata": {
        "colab": {
          "base_uri": "https://localhost:8080/"
        },
        "id": "eiZBgH2nKw1j",
        "outputId": "d66bedfd-0b4d-44a5-bc14-ee5af4d1683b"
      },
      "outputs": [
        {
          "data": {
            "text/plain": [
              "unique_id                        0\n",
              "h1n1_worry                       0\n",
              "h1n1_awareness                   0\n",
              "antiviral_medication             0\n",
              "contact_avoidance                0\n",
              "bought_face_mask                 0\n",
              "wash_hands_frequently            0\n",
              "avoid_large_gatherings           0\n",
              "reduced_outside_home_cont        0\n",
              "avoid_touch_face                 0\n",
              "dr_recc_h1n1_vacc                0\n",
              "dr_recc_seasonal_vacc            0\n",
              "chronic_medic_condition          0\n",
              "cont_child_undr_6_mnths          0\n",
              "is_health_worker                 0\n",
              "has_health_insur             12274\n",
              "is_h1n1_vacc_effective           0\n",
              "is_h1n1_risky                    0\n",
              "sick_from_h1n1_vacc              0\n",
              "is_seas_vacc_effective           0\n",
              "is_seas_risky                    0\n",
              "sick_from_seas_vacc              0\n",
              "age_bracket                      0\n",
              "qualification                    0\n",
              "race                             0\n",
              "sex                              0\n",
              "income_level                     0\n",
              "marital_status                   0\n",
              "housing_status                   0\n",
              "employment                       0\n",
              "census_msa                       0\n",
              "no_of_adults                   249\n",
              "no_of_children                 249\n",
              "h1n1_vaccine                     0\n",
              "dtype: int64"
            ]
          },
          "execution_count": 39,
          "metadata": {},
          "output_type": "execute_result"
        }
      ],
      "source": [
        "df.isnull().sum()\n"
      ]
    },
    {
      "cell_type": "code",
      "execution_count": null,
      "metadata": {
        "id": "ALcUE-L1K1Oo"
      },
      "outputs": [],
      "source": [
        "df[\"no_of_adults\"]=df[\"no_of_adults\"].fillna(df[\"no_of_adults\"].median())"
      ]
    },
    {
      "cell_type": "code",
      "execution_count": null,
      "metadata": {
        "id": "Yh5n8k5PK-is"
      },
      "outputs": [],
      "source": [
        "df[\"no_of_children\"]=df[\"no_of_children\"].fillna(df[\"no_of_children\"].median())"
      ]
    },
    {
      "cell_type": "code",
      "execution_count": null,
      "metadata": {
        "colab": {
          "base_uri": "https://localhost:8080/"
        },
        "id": "WViuGpHeLGBl",
        "outputId": "a356aaca-f009-44ef-d635-9d1398791e86"
      },
      "outputs": [
        {
          "data": {
            "text/plain": [
              "unique_id                        0\n",
              "h1n1_worry                       0\n",
              "h1n1_awareness                   0\n",
              "antiviral_medication             0\n",
              "contact_avoidance                0\n",
              "bought_face_mask                 0\n",
              "wash_hands_frequently            0\n",
              "avoid_large_gatherings           0\n",
              "reduced_outside_home_cont        0\n",
              "avoid_touch_face                 0\n",
              "dr_recc_h1n1_vacc                0\n",
              "dr_recc_seasonal_vacc            0\n",
              "chronic_medic_condition          0\n",
              "cont_child_undr_6_mnths          0\n",
              "is_health_worker                 0\n",
              "has_health_insur             12274\n",
              "is_h1n1_vacc_effective           0\n",
              "is_h1n1_risky                    0\n",
              "sick_from_h1n1_vacc              0\n",
              "is_seas_vacc_effective           0\n",
              "is_seas_risky                    0\n",
              "sick_from_seas_vacc              0\n",
              "age_bracket                      0\n",
              "qualification                    0\n",
              "race                             0\n",
              "sex                              0\n",
              "income_level                     0\n",
              "marital_status                   0\n",
              "housing_status                   0\n",
              "employment                       0\n",
              "census_msa                       0\n",
              "no_of_adults                     0\n",
              "no_of_children                   0\n",
              "h1n1_vaccine                     0\n",
              "dtype: int64"
            ]
          },
          "execution_count": 42,
          "metadata": {},
          "output_type": "execute_result"
        }
      ],
      "source": [
        "df.isnull().sum()"
      ]
    },
    {
      "cell_type": "code",
      "execution_count": null,
      "metadata": {
        "id": "hRNQVFIlLIY8"
      },
      "outputs": [],
      "source": [
        "categ=[\"age_bracket\",\"qualification\",\"race\",\"sex\",\"marital_status\",\"income_level\",\"housing_status\",\"employment\",\"census_msa\"]\n",
        "df[categ]=df[categ].apply(le.fit_transform)"
      ]
    },
    {
      "cell_type": "code",
      "execution_count": null,
      "metadata": {
        "colab": {
          "base_uri": "https://localhost:8080/"
        },
        "id": "HS4MGT8wLXl2",
        "outputId": "1741d1fd-fbb0-4c6a-f04b-e278ab1d8fed"
      },
      "outputs": [
        {
          "name": "stdout",
          "output_type": "stream",
          "text": [
            "<class 'pandas.core.frame.DataFrame'>\n",
            "RangeIndex: 26707 entries, 0 to 26706\n",
            "Data columns (total 34 columns):\n",
            " #   Column                     Non-Null Count  Dtype  \n",
            "---  ------                     --------------  -----  \n",
            " 0   unique_id                  26707 non-null  int64  \n",
            " 1   h1n1_worry                 26707 non-null  float64\n",
            " 2   h1n1_awareness             26707 non-null  float64\n",
            " 3   antiviral_medication       26707 non-null  float64\n",
            " 4   contact_avoidance          26707 non-null  float64\n",
            " 5   bought_face_mask           26707 non-null  float64\n",
            " 6   wash_hands_frequently      26707 non-null  float64\n",
            " 7   avoid_large_gatherings     26707 non-null  float64\n",
            " 8   reduced_outside_home_cont  26707 non-null  float64\n",
            " 9   avoid_touch_face           26707 non-null  float64\n",
            " 10  dr_recc_h1n1_vacc          26707 non-null  float64\n",
            " 11  dr_recc_seasonal_vacc      26707 non-null  float64\n",
            " 12  chronic_medic_condition    26707 non-null  float64\n",
            " 13  cont_child_undr_6_mnths    26707 non-null  float64\n",
            " 14  is_health_worker           26707 non-null  float64\n",
            " 15  has_health_insur           14433 non-null  float64\n",
            " 16  is_h1n1_vacc_effective     26707 non-null  float64\n",
            " 17  is_h1n1_risky              26707 non-null  float64\n",
            " 18  sick_from_h1n1_vacc        26707 non-null  float64\n",
            " 19  is_seas_vacc_effective     26707 non-null  float64\n",
            " 20  is_seas_risky              26707 non-null  float64\n",
            " 21  sick_from_seas_vacc        26707 non-null  float64\n",
            " 22  age_bracket                26707 non-null  int64  \n",
            " 23  qualification              26707 non-null  int64  \n",
            " 24  race                       26707 non-null  int64  \n",
            " 25  sex                        26707 non-null  int64  \n",
            " 26  income_level               26707 non-null  int64  \n",
            " 27  marital_status             26707 non-null  int64  \n",
            " 28  housing_status             26707 non-null  int64  \n",
            " 29  employment                 26707 non-null  int64  \n",
            " 30  census_msa                 26707 non-null  int64  \n",
            " 31  no_of_adults               26707 non-null  float64\n",
            " 32  no_of_children             26707 non-null  float64\n",
            " 33  h1n1_vaccine               26707 non-null  int64  \n",
            "dtypes: float64(23), int64(11)\n",
            "memory usage: 6.9 MB\n"
          ]
        }
      ],
      "source": [
        "df.info()"
      ]
    },
    {
      "cell_type": "code",
      "execution_count": null,
      "metadata": {
        "id": "AHYMB95fLYlu"
      },
      "outputs": [],
      "source": [
        "df.dropna(axis=1,inplace=True)"
      ]
    },
    {
      "cell_type": "code",
      "execution_count": null,
      "metadata": {
        "colab": {
          "base_uri": "https://localhost:8080/"
        },
        "id": "Y9JqHWpcLn-g",
        "outputId": "eefd8912-d754-4256-c5c3-5d0970a8627c"
      },
      "outputs": [
        {
          "data": {
            "text/plain": [
              "unique_id                    0\n",
              "h1n1_worry                   0\n",
              "h1n1_awareness               0\n",
              "antiviral_medication         0\n",
              "contact_avoidance            0\n",
              "bought_face_mask             0\n",
              "wash_hands_frequently        0\n",
              "avoid_large_gatherings       0\n",
              "reduced_outside_home_cont    0\n",
              "avoid_touch_face             0\n",
              "dr_recc_h1n1_vacc            0\n",
              "dr_recc_seasonal_vacc        0\n",
              "chronic_medic_condition      0\n",
              "cont_child_undr_6_mnths      0\n",
              "is_health_worker             0\n",
              "is_h1n1_vacc_effective       0\n",
              "is_h1n1_risky                0\n",
              "sick_from_h1n1_vacc          0\n",
              "is_seas_vacc_effective       0\n",
              "is_seas_risky                0\n",
              "sick_from_seas_vacc          0\n",
              "age_bracket                  0\n",
              "qualification                0\n",
              "race                         0\n",
              "sex                          0\n",
              "income_level                 0\n",
              "marital_status               0\n",
              "housing_status               0\n",
              "employment                   0\n",
              "census_msa                   0\n",
              "no_of_adults                 0\n",
              "no_of_children               0\n",
              "h1n1_vaccine                 0\n",
              "dtype: int64"
            ]
          },
          "execution_count": 46,
          "metadata": {},
          "output_type": "execute_result"
        }
      ],
      "source": [
        "df.isnull().sum()"
      ]
    },
    {
      "cell_type": "code",
      "execution_count": null,
      "metadata": {
        "id": "4-0PwEoNLp_7"
      },
      "outputs": [],
      "source": [
        "x=df.drop(columns=[\"h1n1_vaccine\",\"unique_id\"])\n",
        "y=df[\"h1n1_vaccine\"]"
      ]
    },
    {
      "cell_type": "code",
      "execution_count": null,
      "metadata": {
        "id": "SMVE61GML27h"
      },
      "outputs": [],
      "source": [
        "x_train,x_test,y_train,y_test=train_test_split(x,y,test_size=0.3,random_state=0)"
      ]
    },
    {
      "cell_type": "code",
      "execution_count": null,
      "metadata": {
        "id": "NePCqJjiMC1q"
      },
      "outputs": [],
      "source": [
        "m1=LogisticRegression()"
      ]
    },
    {
      "cell_type": "code",
      "execution_count": null,
      "metadata": {
        "colab": {
          "base_uri": "https://localhost:8080/",
          "height": 74
        },
        "id": "qD70UmqaMKdV",
        "outputId": "cf346efb-4803-482c-d174-8f103316afff"
      },
      "outputs": [
        {
          "data": {
            "text/html": [
              "<style>#sk-container-id-1 {color: black;background-color: white;}#sk-container-id-1 pre{padding: 0;}#sk-container-id-1 div.sk-toggleable {background-color: white;}#sk-container-id-1 label.sk-toggleable__label {cursor: pointer;display: block;width: 100%;margin-bottom: 0;padding: 0.3em;box-sizing: border-box;text-align: center;}#sk-container-id-1 label.sk-toggleable__label-arrow:before {content: \"▸\";float: left;margin-right: 0.25em;color: #696969;}#sk-container-id-1 label.sk-toggleable__label-arrow:hover:before {color: black;}#sk-container-id-1 div.sk-estimator:hover label.sk-toggleable__label-arrow:before {color: black;}#sk-container-id-1 div.sk-toggleable__content {max-height: 0;max-width: 0;overflow: hidden;text-align: left;background-color: #f0f8ff;}#sk-container-id-1 div.sk-toggleable__content pre {margin: 0.2em;color: black;border-radius: 0.25em;background-color: #f0f8ff;}#sk-container-id-1 input.sk-toggleable__control:checked~div.sk-toggleable__content {max-height: 200px;max-width: 100%;overflow: auto;}#sk-container-id-1 input.sk-toggleable__control:checked~label.sk-toggleable__label-arrow:before {content: \"▾\";}#sk-container-id-1 div.sk-estimator input.sk-toggleable__control:checked~label.sk-toggleable__label {background-color: #d4ebff;}#sk-container-id-1 div.sk-label input.sk-toggleable__control:checked~label.sk-toggleable__label {background-color: #d4ebff;}#sk-container-id-1 input.sk-hidden--visually {border: 0;clip: rect(1px 1px 1px 1px);clip: rect(1px, 1px, 1px, 1px);height: 1px;margin: -1px;overflow: hidden;padding: 0;position: absolute;width: 1px;}#sk-container-id-1 div.sk-estimator {font-family: monospace;background-color: #f0f8ff;border: 1px dotted black;border-radius: 0.25em;box-sizing: border-box;margin-bottom: 0.5em;}#sk-container-id-1 div.sk-estimator:hover {background-color: #d4ebff;}#sk-container-id-1 div.sk-parallel-item::after {content: \"\";width: 100%;border-bottom: 1px solid gray;flex-grow: 1;}#sk-container-id-1 div.sk-label:hover label.sk-toggleable__label {background-color: #d4ebff;}#sk-container-id-1 div.sk-serial::before {content: \"\";position: absolute;border-left: 1px solid gray;box-sizing: border-box;top: 0;bottom: 0;left: 50%;z-index: 0;}#sk-container-id-1 div.sk-serial {display: flex;flex-direction: column;align-items: center;background-color: white;padding-right: 0.2em;padding-left: 0.2em;position: relative;}#sk-container-id-1 div.sk-item {position: relative;z-index: 1;}#sk-container-id-1 div.sk-parallel {display: flex;align-items: stretch;justify-content: center;background-color: white;position: relative;}#sk-container-id-1 div.sk-item::before, #sk-container-id-1 div.sk-parallel-item::before {content: \"\";position: absolute;border-left: 1px solid gray;box-sizing: border-box;top: 0;bottom: 0;left: 50%;z-index: -1;}#sk-container-id-1 div.sk-parallel-item {display: flex;flex-direction: column;z-index: 1;position: relative;background-color: white;}#sk-container-id-1 div.sk-parallel-item:first-child::after {align-self: flex-end;width: 50%;}#sk-container-id-1 div.sk-parallel-item:last-child::after {align-self: flex-start;width: 50%;}#sk-container-id-1 div.sk-parallel-item:only-child::after {width: 0;}#sk-container-id-1 div.sk-dashed-wrapped {border: 1px dashed gray;margin: 0 0.4em 0.5em 0.4em;box-sizing: border-box;padding-bottom: 0.4em;background-color: white;}#sk-container-id-1 div.sk-label label {font-family: monospace;font-weight: bold;display: inline-block;line-height: 1.2em;}#sk-container-id-1 div.sk-label-container {text-align: center;}#sk-container-id-1 div.sk-container {/* jupyter's `normalize.less` sets `[hidden] { display: none; }` but bootstrap.min.css set `[hidden] { display: none !important; }` so we also need the `!important` here to be able to override the default hidden behavior on the sphinx rendered scikit-learn.org. See: https://github.com/scikit-learn/scikit-learn/issues/21755 */display: inline-block !important;position: relative;}#sk-container-id-1 div.sk-text-repr-fallback {display: none;}</style><div id=\"sk-container-id-1\" class=\"sk-top-container\"><div class=\"sk-text-repr-fallback\"><pre>LogisticRegression()</pre><b>In a Jupyter environment, please rerun this cell to show the HTML representation or trust the notebook. <br />On GitHub, the HTML representation is unable to render, please try loading this page with nbviewer.org.</b></div><div class=\"sk-container\" hidden><div class=\"sk-item\"><div class=\"sk-estimator sk-toggleable\"><input class=\"sk-toggleable__control sk-hidden--visually\" id=\"sk-estimator-id-1\" type=\"checkbox\" checked><label for=\"sk-estimator-id-1\" class=\"sk-toggleable__label sk-toggleable__label-arrow\">LogisticRegression</label><div class=\"sk-toggleable__content\"><pre>LogisticRegression()</pre></div></div></div></div></div>"
            ],
            "text/plain": [
              "LogisticRegression()"
            ]
          },
          "execution_count": 50,
          "metadata": {},
          "output_type": "execute_result"
        }
      ],
      "source": [
        "m1.fit(x_train,y_train)"
      ]
    },
    {
      "cell_type": "code",
      "execution_count": null,
      "metadata": {
        "colab": {
          "base_uri": "https://localhost:8080/"
        },
        "id": "NDPgHcCcNPM3",
        "outputId": "91355b59-76b1-4ddc-c56e-6fd3e7f342ad"
      },
      "outputs": [
        {
          "data": {
            "text/plain": [
              "0.8373274847544667"
            ]
          },
          "execution_count": 51,
          "metadata": {},
          "output_type": "execute_result"
        }
      ],
      "source": [
        "m1.score(x_train,y_train)"
      ]
    },
    {
      "cell_type": "code",
      "execution_count": null,
      "metadata": {
        "colab": {
          "base_uri": "https://localhost:8080/"
        },
        "id": "rSR5r7N6MOkK",
        "outputId": "a229e1fb-0407-4b2a-a484-ae2abfbac2f9"
      },
      "outputs": [
        {
          "data": {
            "text/plain": [
              "0.8318981654810932"
            ]
          },
          "execution_count": 52,
          "metadata": {},
          "output_type": "execute_result"
        }
      ],
      "source": [
        "m1.score(x_test,y_test)"
      ]
    },
    {
      "cell_type": "code",
      "execution_count": null,
      "metadata": {
        "id": "hIEt9EieNX57"
      },
      "outputs": [],
      "source": [
        "dtree=DecisionTreeClassifier(criterion='gini',max_depth=3,random_state=0)"
      ]
    },
    {
      "cell_type": "code",
      "execution_count": null,
      "metadata": {
        "colab": {
          "base_uri": "https://localhost:8080/",
          "height": 74
        },
        "id": "MQaTc54_NkH8",
        "outputId": "0575cfda-3d64-4e2d-e64d-4be9d190e2fa"
      },
      "outputs": [
        {
          "data": {
            "text/html": [
              "<style>#sk-container-id-2 {color: black;background-color: white;}#sk-container-id-2 pre{padding: 0;}#sk-container-id-2 div.sk-toggleable {background-color: white;}#sk-container-id-2 label.sk-toggleable__label {cursor: pointer;display: block;width: 100%;margin-bottom: 0;padding: 0.3em;box-sizing: border-box;text-align: center;}#sk-container-id-2 label.sk-toggleable__label-arrow:before {content: \"▸\";float: left;margin-right: 0.25em;color: #696969;}#sk-container-id-2 label.sk-toggleable__label-arrow:hover:before {color: black;}#sk-container-id-2 div.sk-estimator:hover label.sk-toggleable__label-arrow:before {color: black;}#sk-container-id-2 div.sk-toggleable__content {max-height: 0;max-width: 0;overflow: hidden;text-align: left;background-color: #f0f8ff;}#sk-container-id-2 div.sk-toggleable__content pre {margin: 0.2em;color: black;border-radius: 0.25em;background-color: #f0f8ff;}#sk-container-id-2 input.sk-toggleable__control:checked~div.sk-toggleable__content {max-height: 200px;max-width: 100%;overflow: auto;}#sk-container-id-2 input.sk-toggleable__control:checked~label.sk-toggleable__label-arrow:before {content: \"▾\";}#sk-container-id-2 div.sk-estimator input.sk-toggleable__control:checked~label.sk-toggleable__label {background-color: #d4ebff;}#sk-container-id-2 div.sk-label input.sk-toggleable__control:checked~label.sk-toggleable__label {background-color: #d4ebff;}#sk-container-id-2 input.sk-hidden--visually {border: 0;clip: rect(1px 1px 1px 1px);clip: rect(1px, 1px, 1px, 1px);height: 1px;margin: -1px;overflow: hidden;padding: 0;position: absolute;width: 1px;}#sk-container-id-2 div.sk-estimator {font-family: monospace;background-color: #f0f8ff;border: 1px dotted black;border-radius: 0.25em;box-sizing: border-box;margin-bottom: 0.5em;}#sk-container-id-2 div.sk-estimator:hover {background-color: #d4ebff;}#sk-container-id-2 div.sk-parallel-item::after {content: \"\";width: 100%;border-bottom: 1px solid gray;flex-grow: 1;}#sk-container-id-2 div.sk-label:hover label.sk-toggleable__label {background-color: #d4ebff;}#sk-container-id-2 div.sk-serial::before {content: \"\";position: absolute;border-left: 1px solid gray;box-sizing: border-box;top: 0;bottom: 0;left: 50%;z-index: 0;}#sk-container-id-2 div.sk-serial {display: flex;flex-direction: column;align-items: center;background-color: white;padding-right: 0.2em;padding-left: 0.2em;position: relative;}#sk-container-id-2 div.sk-item {position: relative;z-index: 1;}#sk-container-id-2 div.sk-parallel {display: flex;align-items: stretch;justify-content: center;background-color: white;position: relative;}#sk-container-id-2 div.sk-item::before, #sk-container-id-2 div.sk-parallel-item::before {content: \"\";position: absolute;border-left: 1px solid gray;box-sizing: border-box;top: 0;bottom: 0;left: 50%;z-index: -1;}#sk-container-id-2 div.sk-parallel-item {display: flex;flex-direction: column;z-index: 1;position: relative;background-color: white;}#sk-container-id-2 div.sk-parallel-item:first-child::after {align-self: flex-end;width: 50%;}#sk-container-id-2 div.sk-parallel-item:last-child::after {align-self: flex-start;width: 50%;}#sk-container-id-2 div.sk-parallel-item:only-child::after {width: 0;}#sk-container-id-2 div.sk-dashed-wrapped {border: 1px dashed gray;margin: 0 0.4em 0.5em 0.4em;box-sizing: border-box;padding-bottom: 0.4em;background-color: white;}#sk-container-id-2 div.sk-label label {font-family: monospace;font-weight: bold;display: inline-block;line-height: 1.2em;}#sk-container-id-2 div.sk-label-container {text-align: center;}#sk-container-id-2 div.sk-container {/* jupyter's `normalize.less` sets `[hidden] { display: none; }` but bootstrap.min.css set `[hidden] { display: none !important; }` so we also need the `!important` here to be able to override the default hidden behavior on the sphinx rendered scikit-learn.org. See: https://github.com/scikit-learn/scikit-learn/issues/21755 */display: inline-block !important;position: relative;}#sk-container-id-2 div.sk-text-repr-fallback {display: none;}</style><div id=\"sk-container-id-2\" class=\"sk-top-container\"><div class=\"sk-text-repr-fallback\"><pre>DecisionTreeClassifier(max_depth=3, random_state=0)</pre><b>In a Jupyter environment, please rerun this cell to show the HTML representation or trust the notebook. <br />On GitHub, the HTML representation is unable to render, please try loading this page with nbviewer.org.</b></div><div class=\"sk-container\" hidden><div class=\"sk-item\"><div class=\"sk-estimator sk-toggleable\"><input class=\"sk-toggleable__control sk-hidden--visually\" id=\"sk-estimator-id-2\" type=\"checkbox\" checked><label for=\"sk-estimator-id-2\" class=\"sk-toggleable__label sk-toggleable__label-arrow\">DecisionTreeClassifier</label><div class=\"sk-toggleable__content\"><pre>DecisionTreeClassifier(max_depth=3, random_state=0)</pre></div></div></div></div></div>"
            ],
            "text/plain": [
              "DecisionTreeClassifier(max_depth=3, random_state=0)"
            ]
          },
          "execution_count": 54,
          "metadata": {},
          "output_type": "execute_result"
        }
      ],
      "source": [
        "dtree.fit(x_train,y_train)"
      ]
    },
    {
      "cell_type": "code",
      "execution_count": null,
      "metadata": {
        "colab": {
          "base_uri": "https://localhost:8080/"
        },
        "id": "FMk-9eY4NpB8",
        "outputId": "72462f60-c9d0-4e76-db5d-71997e4756cd"
      },
      "outputs": [
        {
          "data": {
            "text/plain": [
              "0.827538247566064"
            ]
          },
          "execution_count": 55,
          "metadata": {},
          "output_type": "execute_result"
        }
      ],
      "source": [
        "dtree.score(x_train,y_train)"
      ]
    },
    {
      "cell_type": "code",
      "execution_count": null,
      "metadata": {
        "colab": {
          "base_uri": "https://localhost:8080/"
        },
        "id": "5tEg10yXNtne",
        "outputId": "e8d69203-7fdd-482a-9937-0d68a2615c45"
      },
      "outputs": [
        {
          "data": {
            "text/plain": [
              "0.823786347185823"
            ]
          },
          "execution_count": 56,
          "metadata": {},
          "output_type": "execute_result"
        }
      ],
      "source": [
        "dtree.score(x_test,y_test)"
      ]
    },
    {
      "cell_type": "code",
      "execution_count": null,
      "metadata": {
        "id": "fAChMmTuOEq6"
      },
      "outputs": [],
      "source": [
        "y_predict=dtree.predict(x_test)"
      ]
    },
    {
      "cell_type": "code",
      "execution_count": null,
      "metadata": {
        "id": "MGyj0JkCNxi_"
      },
      "outputs": [],
      "source": [
        "from sklearn import metrics"
      ]
    },
    {
      "cell_type": "code",
      "execution_count": null,
      "metadata": {
        "colab": {
          "base_uri": "https://localhost:8080/",
          "height": 462
        },
        "id": "fgL0goRiN4L6",
        "outputId": "826c79aa-6589-4662-ef32-38475de15209"
      },
      "outputs": [
        {
          "data": {
            "text/plain": [
              "<Axes: >"
            ]
          },
          "execution_count": 61,
          "metadata": {},
          "output_type": "execute_result"
        },
        {
          "data": {
            "image/png": "[encoded data removed]",
            "text/plain": [
              "<Figure size 700x500 with 2 Axes>"
            ]
          },
          "metadata": {},
          "output_type": "display_data"
        }
      ],
      "source": [
        "cm=metrics.confusion_matrix(y_test, y_predict,labels=[0, 1])\n",
        "\n",
        "df_cm = pd.DataFrame(cm, index = [i for i in [\"No\",\"Yes\"]],\n",
        "                  columns = [i for i in [\"No\",\"Yes\"]])\n",
        "plt.figure(figsize = (7,5))\n",
        "sns.heatmap(df_cm, annot=True ,fmt='g')"
      ]
    },
    {
      "cell_type": "code",
      "execution_count": null,
      "metadata": {
        "id": "YKQHkCo0N6OR"
      },
      "outputs": [],
      "source": [
        "from sklearn.ensemble import BaggingClassifier\n",
        "bgcl=BaggingClassifier(n_estimators=150,base_estimator=dtree,random_state=0)"
      ]
    },
    {
      "cell_type": "code",
      "execution_count": null,
      "metadata": {
        "colab": {
          "background_save": true
        },
        "id": "oaxLGxyUOQiN"
      },
      "outputs": [],
      "source": [
        "bgcl=bgcl.fit(x_train,y_train)"
      ]
    },
    {
      "cell_type": "code",
      "execution_count": null,
      "metadata": {
        "colab": {
          "background_save": true
        },
        "id": "MS2v47tCOUOo"
      },
      "outputs": [],
      "source": [
        "y1_predict=bgcl.predict(x_test)"
      ]
    },
    {
      "cell_type": "code",
      "execution_count": null,
      "metadata": {
        "colab": {
          "background_save": true,
          "base_uri": "https://localhost:8080/"
        },
        "id": "z_dNMxpyOYIW",
        "outputId": "a2068c94-42da-4b9a-d0a2-fce93ad64d26"
      },
      "outputs": [
        {
          "data": {
            "text/plain": [
              "0.8311757783245961"
            ]
          },
          "execution_count": 61,
          "metadata": {},
          "output_type": "execute_result"
        }
      ],
      "source": [
        "bgcl.score(x_train,y_train)"
      ]
    },
    {
      "cell_type": "code",
      "execution_count": null,
      "metadata": {
        "colab": {
          "background_save": true,
          "base_uri": "https://localhost:8080/"
        },
        "id": "55T7BhCPOglL",
        "outputId": "4eb2c79c-e235-40c6-cdee-7d441e1f44d5"
      },
      "outputs": [
        {
          "data": {
            "text/plain": [
              "0.8296518157993261"
            ]
          },
          "execution_count": 62,
          "metadata": {},
          "output_type": "execute_result"
        }
      ],
      "source": [
        "bgcl.score(x_test,y_test)"
      ]
    },
    {
      "cell_type": "code",
      "execution_count": null,
      "metadata": {
        "colab": {
          "background_save": true,
          "base_uri": "https://localhost:8080/",
          "height": 462
        },
        "id": "m49_zalyOm98",
        "outputId": "c5f34dda-5f1e-4545-baa7-d7ddaff82578"
      },
      "outputs": [
        {
          "data": {
            "text/plain": [
              "<Axes: >"
            ]
          },
          "execution_count": 63,
          "metadata": {},
          "output_type": "execute_result"
        },
        {
          "data": {
            "image/png": "[encoded data removed]",
            "text/plain": [
              "<Figure size 700x500 with 2 Axes>"
            ]
          },
          "metadata": {},
          "output_type": "display_data"
        }
      ],
      "source": [
        "from sklearn import metrics\n",
        "cm=metrics.confusion_matrix(y_test,y1_predict,labels=[0,1])\n",
        "df_cm=pd.DataFrame(cm,index =[i for i in[\"NO\",\"Yes\"]], columns=[i for i in [\"No\",\"Yes\"]])\n",
        "plt.figure(figsize=(7,5))\n",
        "sns.heatmap(df_cm,annot=True,fmt='g')"
      ]
    },
    {
      "cell_type": "code",
      "execution_count": null,
      "metadata": {
        "colab": {
          "background_save": true
        },
        "id": "kCkYB4u7PD5e"
      },
      "outputs": [],
      "source": [
        "from sklearn.ensemble import AdaBoostClassifier\n",
        "abcl=AdaBoostClassifier(n_estimators=120,random_state=0)\n",
        "abcl=abcl.fit(x_train,y_train)"
      ]
    },
    {
      "cell_type": "code",
      "execution_count": null,
      "metadata": {
        "colab": {
          "base_uri": "https://localhost:8080/"
        },
        "id": "jIougKmXPLSf",
        "outputId": "b2fd5411-5b74-447e-b9f8-ff7dcf0f7376"
      },
      "outputs": [
        {
          "name": "stdout",
          "output_type": "stream",
          "text": [
            "0.8323973542992636\n"
          ]
        }
      ],
      "source": [
        "y2_predict=abcl.predict(x_test)\n",
        "print(abcl.score(x_test,y_test))"
      ]
    },
    {
      "cell_type": "code",
      "execution_count": null,
      "metadata": {
        "colab": {
          "base_uri": "https://localhost:8080/"
        },
        "id": "nYuNeNZWPSGM",
        "outputId": "d384a912-1c80-429e-9f5c-5b80a8592457"
      },
      "outputs": [
        {
          "data": {
            "text/plain": [
              "0.8367925537605649"
            ]
          },
          "execution_count": 72,
          "metadata": {},
          "output_type": "execute_result"
        }
      ],
      "source": [
        "abcl.score(x_train,y_train)"
      ]
    },
    {
      "cell_type": "code",
      "execution_count": null,
      "metadata": {
        "colab": {
          "base_uri": "https://localhost:8080/",
          "height": 462
        },
        "id": "sHxYc1wCPWFC",
        "outputId": "a68c3d5b-1ddc-4fe5-8324-4013f6f8ae02"
      },
      "outputs": [
        {
          "data": {
            "text/plain": [
              "<Axes: >"
            ]
          },
          "execution_count": 73,
          "metadata": {},
          "output_type": "execute_result"
        },
        {
          "data": {
            "image/png": "[encoded data removed]",
            "text/plain": [
              "<Figure size 700x500 with 2 Axes>"
            ]
          },
          "metadata": {},
          "output_type": "display_data"
        }
      ],
      "source": [
        "from sklearn import metrics\n",
        "cm=metrics.confusion_matrix(y_test,y2_predict,labels=[0,1])\n",
        "df_cm=pd.DataFrame(cm,index =[i for i in[\"NO\",\"Yes\"]], columns=[i for i in [\"No\",\"Yes\"]])\n",
        "plt.figure(figsize=(7,5))\n",
        "sns.heatmap(df_cm,annot=True,fmt='g')"
      ]
    },
    {
      "cell_type": "code",
      "execution_count": null,
      "metadata": {
        "colab": {
          "base_uri": "https://localhost:8080/"
        },
        "id": "rXs1qEvrPZoH",
        "outputId": "295fb325-809f-4108-84a9-fd7f9a9eb775"
      },
      "outputs": [
        {
          "name": "stdout",
          "output_type": "stream",
          "text": [
            "0.8361412704355422\n"
          ]
        }
      ],
      "source": [
        "from sklearn.ensemble import GradientBoostingClassifier\n",
        "gbcl=GradientBoostingClassifier(n_estimators=200,random_state=0)\n",
        "gbcl=gbcl.fit(x_train,y_train)\n",
        "y_predict=gbcl.predict(x_test)\n",
        "print(gbcl.score(x_test,y_test))"
      ]
    },
    {
      "cell_type": "code",
      "execution_count": null,
      "metadata": {
        "colab": {
          "base_uri": "https://localhost:8080/"
        },
        "id": "J0E7IarrPhPw",
        "outputId": "f33efb48-7232-436a-a5ee-05e745d3744b"
      },
      "outputs": [
        {
          "data": {
            "text/plain": [
              "0.8361412704355422"
            ]
          },
          "execution_count": 75,
          "metadata": {},
          "output_type": "execute_result"
        }
      ],
      "source": [
        "gbcl.score(x_test,y_test)"
      ]
    },
    {
      "cell_type": "code",
      "execution_count": null,
      "metadata": {
        "colab": {
          "base_uri": "https://localhost:8080/",
          "height": 462
        },
        "id": "eP-gvxvbPmOh",
        "outputId": "c99c7ece-9f70-43e8-8ebf-239edc7ef05d"
      },
      "outputs": [
        {
          "data": {
            "text/plain": [
              "<Axes: >"
            ]
          },
          "execution_count": 76,
          "metadata": {},
          "output_type": "execute_result"
        },
        {
          "data": {
            "image/png": "[encoded data removed]",
            "text/plain": [
              "<Figure size 700x500 with 2 Axes>"
            ]
          },
          "metadata": {},
          "output_type": "display_data"
        }
      ],
      "source": [
        "cm=metrics.confusion_matrix(y_test,y_predict,labels=[0,1])\n",
        "df_cm=pd.DataFrame(cm,index =[i for i in[\"NO\",\"Yes\"]], columns=[i for i in [\"No\",\"Yes\"]])\n",
        "plt.figure(figsize=(7,5))\n",
        "sns.heatmap(df_cm,annot=True,fmt='g')"
      ]
    },
    {
      "cell_type": "code",
      "execution_count": null,
      "metadata": {
        "id": "kuyzRTwwPrqx"
      },
      "outputs": [],
      "source": [
        "from sklearn.ensemble import RandomForestClassifier\n",
        "rfcl =RandomForestClassifier(n_estimators=160,random_state=0,max_features=3)\n",
        "rfcl=rfcl.fit(x_train,y_train)"
      ]
    },
    {
      "cell_type": "code",
      "execution_count": null,
      "metadata": {
        "colab": {
          "base_uri": "https://localhost:8080/"
        },
        "id": "WjQEeQ8EPvA_",
        "outputId": "eed0c4c4-95b8-4a33-c3e0-b6e4bd8e8f2b"
      },
      "outputs": [
        {
          "data": {
            "text/plain": [
              "1.0"
            ]
          },
          "execution_count": 78,
          "metadata": {},
          "output_type": "execute_result"
        }
      ],
      "source": [
        "rfcl.score(x_train,y_train)"
      ]
    },
    {
      "cell_type": "code",
      "execution_count": null,
      "metadata": {
        "colab": {
          "base_uri": "https://localhost:8080/"
        },
        "id": "nma1S0pDPxmT",
        "outputId": "081fb4a2-b2a1-4448-d34c-4e35c01bdce6"
      },
      "outputs": [
        {
          "data": {
            "text/plain": [
              "0.8333957319356047"
            ]
          },
          "execution_count": 79,
          "metadata": {},
          "output_type": "execute_result"
        }
      ],
      "source": [
        "rfcl.score(x_test,y_test)"
      ]
    },
    {
      "cell_type": "code",
      "execution_count": null,
      "metadata": {
        "colab": {
          "base_uri": "https://localhost:8080/",
          "height": 465
        },
        "id": "Mw5iZXWeP0aO",
        "outputId": "bb3a97b4-06fa-4d07-8c2f-b7fa0aa197e6"
      },
      "outputs": [
        {
          "data": {
            "text/plain": [
              "<Axes: >"
            ]
          },
          "execution_count": 80,
          "metadata": {},
          "output_type": "execute_result"
        },
        {
          "data": {
            "image/png": "[encoded data removed]",
            "text/plain": [
              "<Figure size 700x500 with 2 Axes>"
            ]
          },
          "metadata": {},
          "output_type": "display_data"
        }
      ],
      "source": [
        "y_predict=rfcl.predict(x_test)\n",
        "\n",
        "cm=metrics.confusion_matrix(y_test, y_predict,labels=[0, 1])\n",
        "\n",
        "df_cm = pd.DataFrame(cm, index = [i for i in [\"No\",\"Yes\"]],\n",
        "                  columns = [i for i in [\"No\",\"Yes\"]])\n",
        "plt.figure(figsize = (7,5))\n",
        "sns.heatmap(df_cm, annot=True ,fmt='g')"
      ]
    },
    {
      "cell_type": "code",
      "execution_count": null,
      "metadata": {
        "id": "UWFSOqwyP7d9"
      },
      "outputs": [],
      "source": [
        "from scipy.stats import zscore"
      ]
    },
    {
      "cell_type": "code",
      "execution_count": null,
      "metadata": {
        "colab": {
          "base_uri": "https://localhost:8080/",
          "height": 445
        },
        "id": "QUO6WrfXP-Jp",
        "outputId": "1e909087-f579-425c-ff9f-5838accef8a3"
      },
      "outputs": [
        {
          "data": {
            "text/html": [
              "\n",
              "  <div id=\"df-78a0ec71-1af0-4ae4-9836-1e53a8c8940c\">\n",
              "    <div class=\"colab-df-container\">\n",
              "      <div>\n",
              "<style scoped>\n",
              "    .dataframe tbody tr th:only-of-type {\n",
              "        vertical-align: middle;\n",
              "    }\n",
              "\n",
              "    .dataframe tbody tr th {\n",
              "        vertical-align: top;\n",
              "    }\n",
              "\n",
              "    .dataframe thead th {\n",
              "        text-align: right;\n",
              "    }\n",
              "</style>\n",
              "<table border=\"1\" class=\"dataframe\">\n",
              "  <thead>\n",
              "    <tr style=\"text-align: right;\">\n",
              "      <th></th>\n",
              "      <th>h1n1_worry</th>\n",
              "      <th>h1n1_awareness</th>\n",
              "      <th>antiviral_medication</th>\n",
              "      <th>contact_avoidance</th>\n",
              "      <th>bought_face_mask</th>\n",
              "      <th>wash_hands_frequently</th>\n",
              "      <th>avoid_large_gatherings</th>\n",
              "      <th>reduced_outside_home_cont</th>\n",
              "      <th>avoid_touch_face</th>\n",
              "      <th>dr_recc_h1n1_vacc</th>\n",
              "      <th>...</th>\n",
              "      <th>qualification</th>\n",
              "      <th>race</th>\n",
              "      <th>sex</th>\n",
              "      <th>income_level</th>\n",
              "      <th>marital_status</th>\n",
              "      <th>housing_status</th>\n",
              "      <th>employment</th>\n",
              "      <th>census_msa</th>\n",
              "      <th>no_of_adults</th>\n",
              "      <th>no_of_children</th>\n",
              "    </tr>\n",
              "  </thead>\n",
              "  <tbody>\n",
              "    <tr>\n",
              "      <th>count</th>\n",
              "      <td>2.670700e+04</td>\n",
              "      <td>2.670700e+04</td>\n",
              "      <td>2.670700e+04</td>\n",
              "      <td>2.670700e+04</td>\n",
              "      <td>2.670700e+04</td>\n",
              "      <td>2.670700e+04</td>\n",
              "      <td>2.670700e+04</td>\n",
              "      <td>2.670700e+04</td>\n",
              "      <td>2.670700e+04</td>\n",
              "      <td>2.670700e+04</td>\n",
              "      <td>...</td>\n",
              "      <td>2.670700e+04</td>\n",
              "      <td>2.670700e+04</td>\n",
              "      <td>2.670700e+04</td>\n",
              "      <td>2.670700e+04</td>\n",
              "      <td>2.670700e+04</td>\n",
              "      <td>2.670700e+04</td>\n",
              "      <td>2.670700e+04</td>\n",
              "      <td>2.670700e+04</td>\n",
              "      <td>2.670700e+04</td>\n",
              "      <td>2.670700e+04</td>\n",
              "    </tr>\n",
              "    <tr>\n",
              "      <th>mean</th>\n",
              "      <td>2.979773e-17</td>\n",
              "      <td>1.572362e-16</td>\n",
              "      <td>-1.862358e-18</td>\n",
              "      <td>-1.117415e-16</td>\n",
              "      <td>-1.596307e-18</td>\n",
              "      <td>1.457960e-16</td>\n",
              "      <td>-1.556399e-17</td>\n",
              "      <td>8.859502e-17</td>\n",
              "      <td>8.753082e-17</td>\n",
              "      <td>3.724716e-18</td>\n",
              "      <td>...</td>\n",
              "      <td>-2.926562e-17</td>\n",
              "      <td>1.203881e-17</td>\n",
              "      <td>8.048046e-17</td>\n",
              "      <td>5.666889e-17</td>\n",
              "      <td>9.125554e-17</td>\n",
              "      <td>-7.795298e-17</td>\n",
              "      <td>9.764076e-17</td>\n",
              "      <td>-3.671506e-17</td>\n",
              "      <td>7.901718e-17</td>\n",
              "      <td>3.857741e-17</td>\n",
              "    </tr>\n",
              "    <tr>\n",
              "      <th>std</th>\n",
              "      <td>1.000019e+00</td>\n",
              "      <td>1.000019e+00</td>\n",
              "      <td>1.000019e+00</td>\n",
              "      <td>1.000019e+00</td>\n",
              "      <td>1.000019e+00</td>\n",
              "      <td>1.000019e+00</td>\n",
              "      <td>1.000019e+00</td>\n",
              "      <td>1.000019e+00</td>\n",
              "      <td>1.000019e+00</td>\n",
              "      <td>1.000019e+00</td>\n",
              "      <td>...</td>\n",
              "      <td>1.000019e+00</td>\n",
              "      <td>1.000019e+00</td>\n",
              "      <td>1.000019e+00</td>\n",
              "      <td>1.000019e+00</td>\n",
              "      <td>1.000019e+00</td>\n",
              "      <td>1.000019e+00</td>\n",
              "      <td>1.000019e+00</td>\n",
              "      <td>1.000019e+00</td>\n",
              "      <td>1.000019e+00</td>\n",
              "      <td>1.000019e+00</td>\n",
              "    </tr>\n",
              "    <tr>\n",
              "      <th>min</th>\n",
              "      <td>-1.781960e+00</td>\n",
              "      <td>-2.044279e+00</td>\n",
              "      <td>-2.262927e-01</td>\n",
              "      <td>-1.634957e+00</td>\n",
              "      <td>-2.720971e-01</td>\n",
              "      <td>-2.177944e+00</td>\n",
              "      <td>-7.458901e-01</td>\n",
              "      <td>-7.117983e-01</td>\n",
              "      <td>-1.453764e+00</td>\n",
              "      <td>-5.038935e-01</td>\n",
              "      <td>...</td>\n",
              "      <td>-1.621199e+00</td>\n",
              "      <td>-2.784094e+00</td>\n",
              "      <td>-8.271240e-01</td>\n",
              "      <td>-6.811055e-01</td>\n",
              "      <td>-8.859285e-01</td>\n",
              "      <td>-5.341815e-01</td>\n",
              "      <td>-8.212556e-01</td>\n",
              "      <td>-1.012379e+00</td>\n",
              "      <td>-1.183463e+00</td>\n",
              "      <td>-5.723870e-01</td>\n",
              "    </tr>\n",
              "    <tr>\n",
              "      <th>25%</th>\n",
              "      <td>-6.818488e-01</td>\n",
              "      <td>-4.236260e-01</td>\n",
              "      <td>-2.262927e-01</td>\n",
              "      <td>-1.634957e+00</td>\n",
              "      <td>-2.720971e-01</td>\n",
              "      <td>4.591486e-01</td>\n",
              "      <td>-7.458901e-01</td>\n",
              "      <td>-7.117983e-01</td>\n",
              "      <td>-1.453764e+00</td>\n",
              "      <td>-5.038935e-01</td>\n",
              "      <td>...</td>\n",
              "      <td>-6.900729e-01</td>\n",
              "      <td>4.654419e-01</td>\n",
              "      <td>-8.271240e-01</td>\n",
              "      <td>-6.811055e-01</td>\n",
              "      <td>-8.859285e-01</td>\n",
              "      <td>-5.341815e-01</td>\n",
              "      <td>-8.212556e-01</td>\n",
              "      <td>-1.012379e+00</td>\n",
              "      <td>-1.183463e+00</td>\n",
              "      <td>-5.723870e-01</td>\n",
              "    </tr>\n",
              "    <tr>\n",
              "      <th>50%</th>\n",
              "      <td>4.182621e-01</td>\n",
              "      <td>-4.236260e-01</td>\n",
              "      <td>-2.262927e-01</td>\n",
              "      <td>6.116368e-01</td>\n",
              "      <td>-2.720971e-01</td>\n",
              "      <td>4.591486e-01</td>\n",
              "      <td>-7.458901e-01</td>\n",
              "      <td>-7.117983e-01</td>\n",
              "      <td>6.878696e-01</td>\n",
              "      <td>-5.038935e-01</td>\n",
              "      <td>...</td>\n",
              "      <td>2.410531e-01</td>\n",
              "      <td>4.654419e-01</td>\n",
              "      <td>-8.271240e-01</td>\n",
              "      <td>-6.811055e-01</td>\n",
              "      <td>-8.859285e-01</td>\n",
              "      <td>-5.341815e-01</td>\n",
              "      <td>-8.212556e-01</td>\n",
              "      <td>2.022483e-01</td>\n",
              "      <td>1.499300e-01</td>\n",
              "      <td>-5.723870e-01</td>\n",
              "    </tr>\n",
              "    <tr>\n",
              "      <th>75%</th>\n",
              "      <td>4.182621e-01</td>\n",
              "      <td>1.197027e+00</td>\n",
              "      <td>-2.262927e-01</td>\n",
              "      <td>6.116368e-01</td>\n",
              "      <td>-2.720971e-01</td>\n",
              "      <td>4.591486e-01</td>\n",
              "      <td>1.340680e+00</td>\n",
              "      <td>1.404892e+00</td>\n",
              "      <td>6.878696e-01</td>\n",
              "      <td>-5.038935e-01</td>\n",
              "      <td>...</td>\n",
              "      <td>1.172179e+00</td>\n",
              "      <td>4.654419e-01</td>\n",
              "      <td>1.209008e+00</td>\n",
              "      <td>8.094128e-01</td>\n",
              "      <td>1.128759e+00</td>\n",
              "      <td>-5.341815e-01</td>\n",
              "      <td>8.483245e-01</td>\n",
              "      <td>1.416875e+00</td>\n",
              "      <td>1.499300e-01</td>\n",
              "      <td>5.084062e-01</td>\n",
              "    </tr>\n",
              "    <tr>\n",
              "      <th>max</th>\n",
              "      <td>1.518373e+00</td>\n",
              "      <td>1.197027e+00</td>\n",
              "      <td>4.419056e+00</td>\n",
              "      <td>6.116368e-01</td>\n",
              "      <td>3.675158e+00</td>\n",
              "      <td>4.591486e-01</td>\n",
              "      <td>1.340680e+00</td>\n",
              "      <td>1.404892e+00</td>\n",
              "      <td>6.878696e-01</td>\n",
              "      <td>1.984546e+00</td>\n",
              "      <td>...</td>\n",
              "      <td>1.172179e+00</td>\n",
              "      <td>4.654419e-01</td>\n",
              "      <td>1.209008e+00</td>\n",
              "      <td>2.299931e+00</td>\n",
              "      <td>1.128759e+00</td>\n",
              "      <td>1.872023e+00</td>\n",
              "      <td>2.517905e+00</td>\n",
              "      <td>1.416875e+00</td>\n",
              "      <td>2.816717e+00</td>\n",
              "      <td>2.669993e+00</td>\n",
              "    </tr>\n",
              "  </tbody>\n",
              "</table>\n",
              "<p>8 rows × 31 columns</p>\n",
              "</div>\n",
              "      <button class=\"colab-df-convert\" onclick=\"convertToInteractive('df-78a0ec71-1af0-4ae4-9836-1e53a8c8940c')\"\n",
              "              title=\"Convert this dataframe to an interactive table.\"\n",
              "              style=\"display:none;\">\n",
              "        \n",
              "  <svg xmlns=\"http://www.w3.org/2000/svg\" height=\"24px\"viewBox=\"0 0 24 24\"\n",
              "       width=\"24px\">\n",
              "    <path d=\"M0 0h24v24H0V0z\" fill=\"none\"/>\n",
              "    <path d=\"M18.56 5.44l.94 2.06.94-2.06 2.06-.94-2.06-.94-.94-2.06-.94 2.06-2.06.94zm-11 1L8.5 8.5l.94-2.06 2.06-.94-2.06-.94L8.5 2.5l-.94 2.06-2.06.94zm10 10l.94 2.06.94-2.06 2.06-.94-2.06-.94-.94-2.06-.94 2.06-2.06.94z\"/><path d=\"M17.41 7.96l-1.37-1.37c-.4-.4-.92-.59-1.43-.59-.52 0-1.04.2-1.43.59L10.3 9.45l-7.72 7.72c-.78.78-.78 2.05 0 2.83L4 21.41c.39.39.9.59 1.41.59.51 0 1.02-.2 1.41-.59l7.78-7.78 2.81-2.81c.8-.78.8-2.07 0-2.86zM5.41 20L4 18.59l7.72-7.72 1.47 1.35L5.41 20z\"/>\n",
              "  </svg>\n",
              "      </button>\n",
              "      \n",
              "  <style>\n",
              "    .colab-df-container {\n",
              "      display:flex;\n",
              "      flex-wrap:wrap;\n",
              "      gap: 12px;\n",
              "    }\n",
              "\n",
              "    .colab-df-convert {\n",
              "      background-color: #E8F0FE;\n",
              "      border: none;\n",
              "      border-radius: 50%;\n",
              "      cursor: pointer;\n",
              "      display: none;\n",
              "      fill: #1967D2;\n",
              "      height: 32px;\n",
              "      padding: 0 0 0 0;\n",
              "      width: 32px;\n",
              "    }\n",
              "\n",
              "    .colab-df-convert:hover {\n",
              "      background-color: #E2EBFA;\n",
              "      box-shadow: 0px 1px 2px rgba(60, 64, 67, 0.3), 0px 1px 3px 1px rgba(60, 64, 67, 0.15);\n",
              "      fill: #174EA6;\n",
              "    }\n",
              "\n",
              "    [theme=dark] .colab-df-convert {\n",
              "      background-color: #3B4455;\n",
              "      fill: #D2E3FC;\n",
              "    }\n",
              "\n",
              "    [theme=dark] .colab-df-convert:hover {\n",
              "      background-color: #434B5C;\n",
              "      box-shadow: 0px 1px 3px 1px rgba(0, 0, 0, 0.15);\n",
              "      filter: drop-shadow(0px 1px 2px rgba(0, 0, 0, 0.3));\n",
              "      fill: #FFFFFF;\n",
              "    }\n",
              "  </style>\n",
              "\n",
              "      <script>\n",
              "        const buttonEl =\n",
              "          document.querySelector('#df-78a0ec71-1af0-4ae4-9836-1e53a8c8940c button.colab-df-convert');\n",
              "        buttonEl.style.display =\n",
              "          google.colab.kernel.accessAllowed ? 'block' : 'none';\n",
              "\n",
              "        async function convertToInteractive(key) {\n",
              "          const element = document.querySelector('#df-78a0ec71-1af0-4ae4-9836-1e53a8c8940c');\n",
              "          const dataTable =\n",
              "            await google.colab.kernel.invokeFunction('convertToInteractive',\n",
              "                                                     [key], {});\n",
              "          if (!dataTable) return;\n",
              "\n",
              "          const docLinkHtml = 'Like what you see? Visit the ' +\n",
              "            '<a target=\"_blank\" href=https://colab.research.google.com/notebooks/data_table.ipynb>data table notebook</a>'\n",
              "            + ' to learn more about interactive tables.';\n",
              "          element.innerHTML = '';\n",
              "          dataTable['output_type'] = 'display_data';\n",
              "          await google.colab.output.renderOutput(dataTable, element);\n",
              "          const docLink = document.createElement('div');\n",
              "          docLink.innerHTML = docLinkHtml;\n",
              "          element.appendChild(docLink);\n",
              "        }\n",
              "      </script>\n",
              "    </div>\n",
              "  </div>\n",
              "  "
            ],
            "text/plain": [
              "         h1n1_worry  h1n1_awareness  antiviral_medication  contact_avoidance  \\\n",
              "count  2.670700e+04    2.670700e+04          2.670700e+04       2.670700e+04   \n",
              "mean   2.979773e-17    1.572362e-16         -1.862358e-18      -1.117415e-16   \n",
              "std    1.000019e+00    1.000019e+00          1.000019e+00       1.000019e+00   \n",
              "min   -1.781960e+00   -2.044279e+00         -2.262927e-01      -1.634957e+00   \n",
              "25%   -6.818488e-01   -4.236260e-01         -2.262927e-01      -1.634957e+00   \n",
              "50%    4.182621e-01   -4.236260e-01         -2.262927e-01       6.116368e-01   \n",
              "75%    4.182621e-01    1.197027e+00         -2.262927e-01       6.116368e-01   \n",
              "max    1.518373e+00    1.197027e+00          4.419056e+00       6.116368e-01   \n",
              "\n",
              "       bought_face_mask  wash_hands_frequently  avoid_large_gatherings  \\\n",
              "count      2.670700e+04           2.670700e+04            2.670700e+04   \n",
              "mean      -1.596307e-18           1.457960e-16           -1.556399e-17   \n",
              "std        1.000019e+00           1.000019e+00            1.000019e+00   \n",
              "min       -2.720971e-01          -2.177944e+00           -7.458901e-01   \n",
              "25%       -2.720971e-01           4.591486e-01           -7.458901e-01   \n",
              "50%       -2.720971e-01           4.591486e-01           -7.458901e-01   \n",
              "75%       -2.720971e-01           4.591486e-01            1.340680e+00   \n",
              "max        3.675158e+00           4.591486e-01            1.340680e+00   \n",
              "\n",
              "       reduced_outside_home_cont  avoid_touch_face  dr_recc_h1n1_vacc  ...  \\\n",
              "count               2.670700e+04      2.670700e+04       2.670700e+04  ...   \n",
              "mean                8.859502e-17      8.753082e-17       3.724716e-18  ...   \n",
              "std                 1.000019e+00      1.000019e+00       1.000019e+00  ...   \n",
              "min                -7.117983e-01     -1.453764e+00      -5.038935e-01  ...   \n",
              "25%                -7.117983e-01     -1.453764e+00      -5.038935e-01  ...   \n",
              "50%                -7.117983e-01      6.878696e-01      -5.038935e-01  ...   \n",
              "75%                 1.404892e+00      6.878696e-01      -5.038935e-01  ...   \n",
              "max                 1.404892e+00      6.878696e-01       1.984546e+00  ...   \n",
              "\n",
              "       qualification          race           sex  income_level  \\\n",
              "count   2.670700e+04  2.670700e+04  2.670700e+04  2.670700e+04   \n",
              "mean   -2.926562e-17  1.203881e-17  8.048046e-17  5.666889e-17   \n",
              "std     1.000019e+00  1.000019e+00  1.000019e+00  1.000019e+00   \n",
              "min    -1.621199e+00 -2.784094e+00 -8.271240e-01 -6.811055e-01   \n",
              "25%    -6.900729e-01  4.654419e-01 -8.271240e-01 -6.811055e-01   \n",
              "50%     2.410531e-01  4.654419e-01 -8.271240e-01 -6.811055e-01   \n",
              "75%     1.172179e+00  4.654419e-01  1.209008e+00  8.094128e-01   \n",
              "max     1.172179e+00  4.654419e-01  1.209008e+00  2.299931e+00   \n",
              "\n",
              "       marital_status  housing_status    employment    census_msa  \\\n",
              "count    2.670700e+04    2.670700e+04  2.670700e+04  2.670700e+04   \n",
              "mean     9.125554e-17   -7.795298e-17  9.764076e-17 -3.671506e-17   \n",
              "std      1.000019e+00    1.000019e+00  1.000019e+00  1.000019e+00   \n",
              "min     -8.859285e-01   -5.341815e-01 -8.212556e-01 -1.012379e+00   \n",
              "25%     -8.859285e-01   -5.341815e-01 -8.212556e-01 -1.012379e+00   \n",
              "50%     -8.859285e-01   -5.341815e-01 -8.212556e-01  2.022483e-01   \n",
              "75%      1.128759e+00   -5.341815e-01  8.483245e-01  1.416875e+00   \n",
              "max      1.128759e+00    1.872023e+00  2.517905e+00  1.416875e+00   \n",
              "\n",
              "       no_of_adults  no_of_children  \n",
              "count  2.670700e+04    2.670700e+04  \n",
              "mean   7.901718e-17    3.857741e-17  \n",
              "std    1.000019e+00    1.000019e+00  \n",
              "min   -1.183463e+00   -5.723870e-01  \n",
              "25%   -1.183463e+00   -5.723870e-01  \n",
              "50%    1.499300e-01   -5.723870e-01  \n",
              "75%    1.499300e-01    5.084062e-01  \n",
              "max    2.816717e+00    2.669993e+00  \n",
              "\n",
              "[8 rows x 31 columns]"
            ]
          },
          "execution_count": 83,
          "metadata": {},
          "output_type": "execute_result"
        }
      ],
      "source": [
        "xscaled=x.apply(zscore)\n",
        "xscaled.describe()"
      ]
    },
    {
      "cell_type": "code",
      "execution_count": null,
      "metadata": {
        "id": "FliwaXL8P_dF"
      },
      "outputs": [],
      "source": [
        "NNH = KNeighborsClassifier(n_neighbors=5,weights='distance',metric='euclidean')"
      ]
    },
    {
      "cell_type": "code",
      "execution_count": null,
      "metadata": {
        "colab": {
          "base_uri": "https://localhost:8080/",
          "height": 74
        },
        "id": "Jd8MiEp8QE25",
        "outputId": "1a68a6a8-68cc-4a29-e463-1914b8a0fee8"
      },
      "outputs": [
        {
          "data": {
            "text/html": [
              "<style>#sk-container-id-3 {color: black;background-color: white;}#sk-container-id-3 pre{padding: 0;}#sk-container-id-3 div.sk-toggleable {background-color: white;}#sk-container-id-3 label.sk-toggleable__label {cursor: pointer;display: block;width: 100%;margin-bottom: 0;padding: 0.3em;box-sizing: border-box;text-align: center;}#sk-container-id-3 label.sk-toggleable__label-arrow:before {content: \"▸\";float: left;margin-right: 0.25em;color: #696969;}#sk-container-id-3 label.sk-toggleable__label-arrow:hover:before {color: black;}#sk-container-id-3 div.sk-estimator:hover label.sk-toggleable__label-arrow:before {color: black;}#sk-container-id-3 div.sk-toggleable__content {max-height: 0;max-width: 0;overflow: hidden;text-align: left;background-color: #f0f8ff;}#sk-container-id-3 div.sk-toggleable__content pre {margin: 0.2em;color: black;border-radius: 0.25em;background-color: #f0f8ff;}#sk-container-id-3 input.sk-toggleable__control:checked~div.sk-toggleable__content {max-height: 200px;max-width: 100%;overflow: auto;}#sk-container-id-3 input.sk-toggleable__control:checked~label.sk-toggleable__label-arrow:before {content: \"▾\";}#sk-container-id-3 div.sk-estimator input.sk-toggleable__control:checked~label.sk-toggleable__label {background-color: #d4ebff;}#sk-container-id-3 div.sk-label input.sk-toggleable__control:checked~label.sk-toggleable__label {background-color: #d4ebff;}#sk-container-id-3 input.sk-hidden--visually {border: 0;clip: rect(1px 1px 1px 1px);clip: rect(1px, 1px, 1px, 1px);height: 1px;margin: -1px;overflow: hidden;padding: 0;position: absolute;width: 1px;}#sk-container-id-3 div.sk-estimator {font-family: monospace;background-color: #f0f8ff;border: 1px dotted black;border-radius: 0.25em;box-sizing: border-box;margin-bottom: 0.5em;}#sk-container-id-3 div.sk-estimator:hover {background-color: #d4ebff;}#sk-container-id-3 div.sk-parallel-item::after {content: \"\";width: 100%;border-bottom: 1px solid gray;flex-grow: 1;}#sk-container-id-3 div.sk-label:hover label.sk-toggleable__label {background-color: #d4ebff;}#sk-container-id-3 div.sk-serial::before {content: \"\";position: absolute;border-left: 1px solid gray;box-sizing: border-box;top: 0;bottom: 0;left: 50%;z-index: 0;}#sk-container-id-3 div.sk-serial {display: flex;flex-direction: column;align-items: center;background-color: white;padding-right: 0.2em;padding-left: 0.2em;position: relative;}#sk-container-id-3 div.sk-item {position: relative;z-index: 1;}#sk-container-id-3 div.sk-parallel {display: flex;align-items: stretch;justify-content: center;background-color: white;position: relative;}#sk-container-id-3 div.sk-item::before, #sk-container-id-3 div.sk-parallel-item::before {content: \"\";position: absolute;border-left: 1px solid gray;box-sizing: border-box;top: 0;bottom: 0;left: 50%;z-index: -1;}#sk-container-id-3 div.sk-parallel-item {display: flex;flex-direction: column;z-index: 1;position: relative;background-color: white;}#sk-container-id-3 div.sk-parallel-item:first-child::after {align-self: flex-end;width: 50%;}#sk-container-id-3 div.sk-parallel-item:last-child::after {align-self: flex-start;width: 50%;}#sk-container-id-3 div.sk-parallel-item:only-child::after {width: 0;}#sk-container-id-3 div.sk-dashed-wrapped {border: 1px dashed gray;margin: 0 0.4em 0.5em 0.4em;box-sizing: border-box;padding-bottom: 0.4em;background-color: white;}#sk-container-id-3 div.sk-label label {font-family: monospace;font-weight: bold;display: inline-block;line-height: 1.2em;}#sk-container-id-3 div.sk-label-container {text-align: center;}#sk-container-id-3 div.sk-container {/* jupyter's `normalize.less` sets `[hidden] { display: none; }` but bootstrap.min.css set `[hidden] { display: none !important; }` so we also need the `!important` here to be able to override the default hidden behavior on the sphinx rendered scikit-learn.org. See: https://github.com/scikit-learn/scikit-learn/issues/21755 */display: inline-block !important;position: relative;}#sk-container-id-3 div.sk-text-repr-fallback {display: none;}</style><div id=\"sk-container-id-3\" class=\"sk-top-container\"><div class=\"sk-text-repr-fallback\"><pre>KNeighborsClassifier(metric=&#x27;euclidean&#x27;, weights=&#x27;distance&#x27;)</pre><b>In a Jupyter environment, please rerun this cell to show the HTML representation or trust the notebook. <br />On GitHub, the HTML representation is unable to render, please try loading this page with nbviewer.org.</b></div><div class=\"sk-container\" hidden><div class=\"sk-item\"><div class=\"sk-estimator sk-toggleable\"><input class=\"sk-toggleable__control sk-hidden--visually\" id=\"sk-estimator-id-3\" type=\"checkbox\" checked><label for=\"sk-estimator-id-3\" class=\"sk-toggleable__label sk-toggleable__label-arrow\">KNeighborsClassifier</label><div class=\"sk-toggleable__content\"><pre>KNeighborsClassifier(metric=&#x27;euclidean&#x27;, weights=&#x27;distance&#x27;)</pre></div></div></div></div></div>"
            ],
            "text/plain": [
              "KNeighborsClassifier(metric='euclidean', weights='distance')"
            ]
          },
          "execution_count": 86,
          "metadata": {},
          "output_type": "execute_result"
        }
      ],
      "source": [
        "NNH.fit(xscaled,y)"
      ]
    },
    {
      "cell_type": "code",
      "execution_count": null,
      "metadata": {
        "id": "byasx2_IQGhS"
      },
      "outputs": [],
      "source": []
    }
  ],
  "metadata": {
    "colab": {
      "provenance": [],
      "include_colab_link": true
    },
    "kernelspec": {
      "display_name": "Python 3",
      "name": "python3"
    },
    "language_info": {
      "name": "python"
    }
  },
  "nbformat": 4,
  "nbformat_minor": 0
}